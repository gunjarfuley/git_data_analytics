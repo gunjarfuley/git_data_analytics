{
 "cells": [
  {
   "cell_type": "code",
   "execution_count": 1,
   "metadata": {},
   "outputs": [],
   "source": [
    "import numpy as np\n",
    "import pandas as pd\n",
    "import seaborn as sns\n",
    "from statsmodels.formula.api import ols      # For n-way ANOVA\n",
    "from statsmodels.stats.anova import _get_covariance,anova_lm # For n-way ANOVA\n",
    "%matplotlib inline"
   ]
  },
  {
   "cell_type": "code",
   "execution_count": 2,
   "metadata": {},
   "outputs": [],
   "source": [
    "m1 = pd.read_csv(\"SalaryData.csv\")"
   ]
  },
  {
   "cell_type": "markdown",
   "metadata": {},
   "source": [
    "Uploaded the file"
   ]
  },
  {
   "cell_type": "code",
   "execution_count": 3,
   "metadata": {},
   "outputs": [
    {
     "data": {
      "text/html": [
       "<div>\n",
       "<style scoped>\n",
       "    .dataframe tbody tr th:only-of-type {\n",
       "        vertical-align: middle;\n",
       "    }\n",
       "\n",
       "    .dataframe tbody tr th {\n",
       "        vertical-align: top;\n",
       "    }\n",
       "\n",
       "    .dataframe thead th {\n",
       "        text-align: right;\n",
       "    }\n",
       "</style>\n",
       "<table border=\"1\" class=\"dataframe\">\n",
       "  <thead>\n",
       "    <tr style=\"text-align: right;\">\n",
       "      <th></th>\n",
       "      <th>Education</th>\n",
       "      <th>Occupation</th>\n",
       "      <th>Salary</th>\n",
       "    </tr>\n",
       "  </thead>\n",
       "  <tbody>\n",
       "    <tr>\n",
       "      <th>0</th>\n",
       "      <td>Doctorate</td>\n",
       "      <td>Adm-clerical</td>\n",
       "      <td>153197</td>\n",
       "    </tr>\n",
       "    <tr>\n",
       "      <th>1</th>\n",
       "      <td>Doctorate</td>\n",
       "      <td>Adm-clerical</td>\n",
       "      <td>115945</td>\n",
       "    </tr>\n",
       "    <tr>\n",
       "      <th>2</th>\n",
       "      <td>Doctorate</td>\n",
       "      <td>Adm-clerical</td>\n",
       "      <td>175935</td>\n",
       "    </tr>\n",
       "    <tr>\n",
       "      <th>3</th>\n",
       "      <td>Doctorate</td>\n",
       "      <td>Adm-clerical</td>\n",
       "      <td>220754</td>\n",
       "    </tr>\n",
       "    <tr>\n",
       "      <th>4</th>\n",
       "      <td>Doctorate</td>\n",
       "      <td>Sales</td>\n",
       "      <td>170769</td>\n",
       "    </tr>\n",
       "  </tbody>\n",
       "</table>\n",
       "</div>"
      ],
      "text/plain": [
       "    Education     Occupation  Salary\n",
       "0   Doctorate   Adm-clerical  153197\n",
       "1   Doctorate   Adm-clerical  115945\n",
       "2   Doctorate   Adm-clerical  175935\n",
       "3   Doctorate   Adm-clerical  220754\n",
       "4   Doctorate          Sales  170769"
      ]
     },
     "execution_count": 3,
     "metadata": {},
     "output_type": "execute_result"
    }
   ],
   "source": [
    "m1.head()"
   ]
  },
  {
   "cell_type": "markdown",
   "metadata": {},
   "source": [
    "Checked if it is uploaded correctly or not by checking the first 5 data."
   ]
  },
  {
   "cell_type": "code",
   "execution_count": 4,
   "metadata": {},
   "outputs": [
    {
     "data": {
      "text/html": [
       "<div>\n",
       "<style scoped>\n",
       "    .dataframe tbody tr th:only-of-type {\n",
       "        vertical-align: middle;\n",
       "    }\n",
       "\n",
       "    .dataframe tbody tr th {\n",
       "        vertical-align: top;\n",
       "    }\n",
       "\n",
       "    .dataframe thead th {\n",
       "        text-align: right;\n",
       "    }\n",
       "</style>\n",
       "<table border=\"1\" class=\"dataframe\">\n",
       "  <thead>\n",
       "    <tr style=\"text-align: right;\">\n",
       "      <th></th>\n",
       "      <th>Salary</th>\n",
       "    </tr>\n",
       "  </thead>\n",
       "  <tbody>\n",
       "    <tr>\n",
       "      <th>count</th>\n",
       "      <td>40.000000</td>\n",
       "    </tr>\n",
       "    <tr>\n",
       "      <th>mean</th>\n",
       "      <td>162186.875000</td>\n",
       "    </tr>\n",
       "    <tr>\n",
       "      <th>std</th>\n",
       "      <td>64860.407506</td>\n",
       "    </tr>\n",
       "    <tr>\n",
       "      <th>min</th>\n",
       "      <td>50103.000000</td>\n",
       "    </tr>\n",
       "    <tr>\n",
       "      <th>25%</th>\n",
       "      <td>99897.500000</td>\n",
       "    </tr>\n",
       "    <tr>\n",
       "      <th>50%</th>\n",
       "      <td>169100.000000</td>\n",
       "    </tr>\n",
       "    <tr>\n",
       "      <th>75%</th>\n",
       "      <td>214440.750000</td>\n",
       "    </tr>\n",
       "    <tr>\n",
       "      <th>max</th>\n",
       "      <td>260151.000000</td>\n",
       "    </tr>\n",
       "  </tbody>\n",
       "</table>\n",
       "</div>"
      ],
      "text/plain": [
       "              Salary\n",
       "count      40.000000\n",
       "mean   162186.875000\n",
       "std     64860.407506\n",
       "min     50103.000000\n",
       "25%     99897.500000\n",
       "50%    169100.000000\n",
       "75%    214440.750000\n",
       "max    260151.000000"
      ]
     },
     "execution_count": 4,
     "metadata": {},
     "output_type": "execute_result"
    }
   ],
   "source": [
    "m1.describe()"
   ]
  },
  {
   "cell_type": "markdown",
   "metadata": {},
   "source": [
    "Checked the data set"
   ]
  },
  {
   "cell_type": "code",
   "execution_count": 5,
   "metadata": {},
   "outputs": [
    {
     "name": "stdout",
     "output_type": "stream",
     "text": [
      "<class 'pandas.core.frame.DataFrame'>\n",
      "RangeIndex: 40 entries, 0 to 39\n",
      "Data columns (total 3 columns):\n",
      " #   Column      Non-Null Count  Dtype \n",
      "---  ------      --------------  ----- \n",
      " 0   Education   40 non-null     object\n",
      " 1   Occupation  40 non-null     object\n",
      " 2   Salary      40 non-null     int64 \n",
      "dtypes: int64(1), object(2)\n",
      "memory usage: 1.1+ KB\n"
     ]
    }
   ],
   "source": [
    "m1.info()"
   ]
  },
  {
   "cell_type": "code",
   "execution_count": 12,
   "metadata": {},
   "outputs": [
    {
     "data": {
      "text/plain": [
       " Doctorate    16\n",
       " Bachelors    15\n",
       " HS-grad       9\n",
       "Name: Education, dtype: int64"
      ]
     },
     "execution_count": 12,
     "metadata": {},
     "output_type": "execute_result"
    }
   ],
   "source": [
    "m1['Education'].value_counts()"
   ]
  },
  {
   "cell_type": "markdown",
   "metadata": {},
   "source": [
    "It gives exact number of frequency of different catagorical variables in 'Education'"
   ]
  },
  {
   "cell_type": "code",
   "execution_count": 13,
   "metadata": {},
   "outputs": [
    {
     "data": {
      "text/plain": [
       " Prof-specialty     13\n",
       " Sales              12\n",
       " Adm-clerical       10\n",
       " Exec-managerial     5\n",
       "Name: Occupation, dtype: int64"
      ]
     },
     "execution_count": 13,
     "metadata": {},
     "output_type": "execute_result"
    }
   ],
   "source": [
    "m1['Occupation'].value_counts()"
   ]
  },
  {
   "cell_type": "markdown",
   "metadata": {},
   "source": [
    "It gives exact number of frequency of different catagorical variables in 'Occupation'"
   ]
  },
  {
   "cell_type": "code",
   "execution_count": 14,
   "metadata": {},
   "outputs": [
    {
     "data": {
      "text/plain": [
       "175935    1\n",
       "162494    1\n",
       "212448    1\n",
       "219420    1\n",
       "173935    1\n",
       "90456     1\n",
       "90135     1\n",
       "149909    1\n",
       "212781    1\n",
       "220754    1\n",
       "170769    1\n",
       "160910    1\n",
       "50122     1\n",
       "167431    1\n",
       "180934    1\n",
       "75333     1\n",
       "100135    1\n",
       "83203     1\n",
       "257345    1\n",
       "160540    1\n",
       "237920    1\n",
       "95469     1\n",
       "50103     1\n",
       "191712    1\n",
       "212760    1\n",
       "173664    1\n",
       "188729    1\n",
       "235334    1\n",
       "249207    1\n",
       "260151    1\n",
       "99185     1\n",
       "248871    1\n",
       "77743     1\n",
       "153197    1\n",
       "247724    1\n",
       "100678    1\n",
       "115945    1\n",
       "248156    1\n",
       "52242     1\n",
       "133696    1\n",
       "Name: Salary, dtype: int64"
      ]
     },
     "execution_count": 14,
     "metadata": {},
     "output_type": "execute_result"
    }
   ],
   "source": [
    "m1['Salary'].value_counts()"
   ]
  },
  {
   "cell_type": "markdown",
   "metadata": {},
   "source": [
    "Checking the data points. Variable 'Salary' isn't the catagorical variable."
   ]
  },
  {
   "cell_type": "code",
   "execution_count": 16,
   "metadata": {},
   "outputs": [],
   "source": [
    "m1.Education = pd.Categorical(m1.Education)"
   ]
  },
  {
   "cell_type": "markdown",
   "metadata": {},
   "source": [
    "Converting to categorical variable"
   ]
  },
  {
   "cell_type": "code",
   "execution_count": 17,
   "metadata": {},
   "outputs": [
    {
     "data": {
      "text/plain": [
       "<bound method IndexOpsMixin.value_counts of 0      Doctorate\n",
       "1      Doctorate\n",
       "2      Doctorate\n",
       "3      Doctorate\n",
       "4      Doctorate\n",
       "5      Doctorate\n",
       "6      Doctorate\n",
       "7      Doctorate\n",
       "8      Doctorate\n",
       "9      Doctorate\n",
       "10     Doctorate\n",
       "11     Doctorate\n",
       "12     Doctorate\n",
       "13     Doctorate\n",
       "14     Doctorate\n",
       "15     Bachelors\n",
       "16     Bachelors\n",
       "17     Bachelors\n",
       "18     Bachelors\n",
       "19     Bachelors\n",
       "20     Bachelors\n",
       "21     Bachelors\n",
       "22     Bachelors\n",
       "23     Bachelors\n",
       "24     Bachelors\n",
       "25     Bachelors\n",
       "26       HS-grad\n",
       "27       HS-grad\n",
       "28       HS-grad\n",
       "29       HS-grad\n",
       "30       HS-grad\n",
       "31       HS-grad\n",
       "32       HS-grad\n",
       "33       HS-grad\n",
       "34       HS-grad\n",
       "35     Bachelors\n",
       "36     Bachelors\n",
       "37     Bachelors\n",
       "38     Bachelors\n",
       "39     Doctorate\n",
       "Name: Education, dtype: category\n",
       "Categories (3, object): [Bachelors, Doctorate, HS-grad]>"
      ]
     },
     "execution_count": 17,
     "metadata": {},
     "output_type": "execute_result"
    }
   ],
   "source": [
    "m1.Education.value_counts"
   ]
  },
  {
   "cell_type": "markdown",
   "metadata": {},
   "source": [
    "#Main intention here is to check categories in 'Education'. Categories are Bachelors, Doctorate, HS-grad"
   ]
  },
  {
   "cell_type": "code",
   "execution_count": 34,
   "metadata": {},
   "outputs": [],
   "source": [
    "m1.Occupation = pd.Categorical(m1.Occupation)"
   ]
  },
  {
   "cell_type": "markdown",
   "metadata": {},
   "source": [
    "Converting to categorical variable"
   ]
  },
  {
   "cell_type": "code",
   "execution_count": 19,
   "metadata": {},
   "outputs": [
    {
     "data": {
      "text/plain": [
       "<bound method IndexOpsMixin.value_counts of 0         Adm-clerical\n",
       "1         Adm-clerical\n",
       "2         Adm-clerical\n",
       "3         Adm-clerical\n",
       "4                Sales\n",
       "5                Sales\n",
       "6                Sales\n",
       "7                Sales\n",
       "8                Sales\n",
       "9       Prof-specialty\n",
       "10      Prof-specialty\n",
       "11      Prof-specialty\n",
       "12      Prof-specialty\n",
       "13      Prof-specialty\n",
       "14      Prof-specialty\n",
       "15        Adm-clerical\n",
       "16        Adm-clerical\n",
       "17        Adm-clerical\n",
       "18      Prof-specialty\n",
       "19      Prof-specialty\n",
       "20      Prof-specialty\n",
       "21      Prof-specialty\n",
       "22               Sales\n",
       "23               Sales\n",
       "24               Sales\n",
       "25               Sales\n",
       "26               Sales\n",
       "27               Sales\n",
       "28               Sales\n",
       "29        Adm-clerical\n",
       "30        Adm-clerical\n",
       "31        Adm-clerical\n",
       "32      Prof-specialty\n",
       "33      Prof-specialty\n",
       "34      Prof-specialty\n",
       "35     Exec-managerial\n",
       "36     Exec-managerial\n",
       "37     Exec-managerial\n",
       "38     Exec-managerial\n",
       "39     Exec-managerial\n",
       "Name: Occupation, dtype: category\n",
       "Categories (4, object): [Adm-clerical, Exec-managerial, Prof-specialty, Sales]>"
      ]
     },
     "execution_count": 19,
     "metadata": {},
     "output_type": "execute_result"
    }
   ],
   "source": [
    "m1.Occupation.value_counts"
   ]
  },
  {
   "cell_type": "markdown",
   "metadata": {},
   "source": [
    "Main intention here is to check categories in 'Occupation'. Categories are Adm-clerical, Exec-managerial, Prof-specialty, Sales"
   ]
  },
  {
   "cell_type": "markdown",
   "metadata": {},
   "source": [
    "# 1 One Way ANOVA(Education)\n",
    "#Null Hypothesis H0: Salary is not dependent on educational qualification.\n",
    "#Alternate Hypothesis H1: Salary is dependent on educational qualification."
   ]
  },
  {
   "cell_type": "code",
   "execution_count": 26,
   "metadata": {},
   "outputs": [
    {
     "name": "stdout",
     "output_type": "stream",
     "text": [
      "                df        sum_sq       mean_sq         F        PR(>F)\n",
      "C(Education)   2.0  1.026955e+11  5.134773e+10  30.95628  1.257709e-08\n",
      "Residual      37.0  6.137256e+10  1.658718e+09       NaN           NaN\n"
     ]
    }
   ],
   "source": [
    "formula = 'Salary ~ C(Education)'\n",
    "model = ols(formula, m1).fit()\n",
    "aov_table = anova_lm(model)\n",
    "print(aov_table)"
   ]
  },
  {
   "cell_type": "markdown",
   "metadata": {},
   "source": [
    "# 1 Inference\n",
    "Here the PR value is much less than 0.05 therefore we reject the null hypothesis & accept the alternate hypothesis, i.e. 'Salary is dependent on educational qualification'."
   ]
  },
  {
   "cell_type": "markdown",
   "metadata": {},
   "source": [
    "# 2 One Way Anova(Occupation)\n",
    "#Null Hypothesis H0: Salary is not dependent on occupation.\n",
    "#Alternate Hypothesis H1: Salary is dependent on occupation."
   ]
  },
  {
   "cell_type": "code",
   "execution_count": 27,
   "metadata": {},
   "outputs": [
    {
     "name": "stdout",
     "output_type": "stream",
     "text": [
      "                 df        sum_sq       mean_sq         F    PR(>F)\n",
      "C(Occupation)   3.0  1.125878e+10  3.752928e+09  0.884144  0.458508\n",
      "Residual       36.0  1.528092e+11  4.244701e+09       NaN       NaN\n"
     ]
    }
   ],
   "source": [
    "formula = 'Salary ~ C(Occupation)'\n",
    "model = ols(formula, m1).fit()\n",
    "aov_table = anova_lm(model)\n",
    "print(aov_table)"
   ]
  },
  {
   "cell_type": "markdown",
   "metadata": {},
   "source": [
    "# 2 Inference\n",
    "Here the PR value is more than 0.05 therefore we accept the Null Hypothesis i.e. 'Salary is not dependent on occupation'"
   ]
  },
  {
   "cell_type": "markdown",
   "metadata": {},
   "source": [
    "# 3 Two Way Anova(Education & Occupation)\n",
    "#Null Hypothesis H0: Salary is not dependent on both education & occupation.\n",
    "#Alternate Hypothesis H1: Salary is dependent on both education & occupation."
   ]
  },
  {
   "cell_type": "code",
   "execution_count": 28,
   "metadata": {},
   "outputs": [
    {
     "name": "stdout",
     "output_type": "stream",
     "text": [
      "                 df        sum_sq       mean_sq          F        PR(>F)\n",
      "C(Education)    2.0  1.026955e+11  5.134773e+10  31.257677  1.981539e-08\n",
      "C(Occupation)   3.0  5.519946e+09  1.839982e+09   1.120080  3.545825e-01\n",
      "Residual       34.0  5.585261e+10  1.642724e+09        NaN           NaN\n"
     ]
    }
   ],
   "source": [
    "formula = 'Salary ~ C(Education) + C(Occupation)'\n",
    "model = ols(formula, m1).fit()\n",
    "aov_table = anova_lm(model)\n",
    "print(aov_table)"
   ]
  },
  {
   "cell_type": "markdown",
   "metadata": {},
   "source": [
    "# 3 Inference\n",
    "Here the PR value for 'Education' is less than 0.05 therefore we can say that mean of salary is dependent significantly upon the education.\n",
    "But the PR value for Education is more than 0.05 hence we can say that mean of salary is not significantly dependent upon the occupation.\n",
    "Therefore, we accept the null hypothesis that salary is not dependent upon both the education & occupation."
   ]
  },
  {
   "cell_type": "markdown",
   "metadata": {},
   "source": [
    "# 4 Two Way Anova(Education & Occupation & [Education+Occupation])\n",
    "#Null Hypothesis H0: Salary is not dependent on 'Education' & 'Occupation' & 'Interaction effect of Education & Occupation'.\n",
    "#Alternate Hypothesis H1: Salary is dependent on 'Education' & 'Occupation' & 'Interaction effect of Education & Occupation'."
   ]
  },
  {
   "cell_type": "code",
   "execution_count": 29,
   "metadata": {},
   "outputs": [
    {
     "name": "stdout",
     "output_type": "stream",
     "text": [
      "                              df        sum_sq       mean_sq          F  \\\n",
      "C(Education)                 2.0  1.026955e+11  5.134773e+10  72.211958   \n",
      "C(Occupation)                3.0  5.519946e+09  1.839982e+09   2.587626   \n",
      "C(Education):C(Occupation)   6.0  3.634909e+10  6.058182e+09   8.519815   \n",
      "Residual                    29.0  2.062102e+10  7.110697e+08        NaN   \n",
      "\n",
      "                                  PR(>F)  \n",
      "C(Education)                5.466264e-12  \n",
      "C(Occupation)               7.211580e-02  \n",
      "C(Education):C(Occupation)  2.232500e-05  \n",
      "Residual                             NaN  \n"
     ]
    }
   ],
   "source": [
    "formula = 'Salary ~ C(Education) + C(Occupation) + C(Education):C(Occupation)'\n",
    "model = ols(formula, m1).fit()\n",
    "aov_table = anova_lm(model)\n",
    "print(aov_table)"
   ]
  },
  {
   "cell_type": "markdown",
   "metadata": {},
   "source": [
    "# 4 Inference\n",
    "Here we can see that the PR value of 'Education','Occupation' & 'Interaction Effect of Education & Occupation' is much low that 0.05. \n",
    "Hence we reject the null hypothesis & accept the alternate hypothesis i.e. \n",
    "Salary is dependent on 'Education' & 'Occupation' & 'Interaction effect of Education & Occupation'."
   ]
  },
  {
   "cell_type": "code",
   "execution_count": 31,
   "metadata": {},
   "outputs": [
    {
     "data": {
      "text/plain": [
       "<matplotlib.axes._subplots.AxesSubplot at 0x2438ef48bb0>"
      ]
     },
     "execution_count": 31,
     "metadata": {},
     "output_type": "execute_result"
    },
    {
     "data": {
      "image/png": "[encoded data removed]",
      "text/plain": [
       "<Figure size 432x288 with 1 Axes>"
      ]
     },
     "metadata": {
      "needs_background": "light"
     },
     "output_type": "display_data"
    }
   ],
   "source": [
    "sns.pointplot(x='Education', y='Salary', data=m1, hue='Occupation')"
   ]
  },
  {
   "cell_type": "code",
   "execution_count": 33,
   "metadata": {},
   "outputs": [
    {
     "data": {
      "text/plain": [
       "<matplotlib.axes._subplots.AxesSubplot at 0x2438fb63970>"
      ]
     },
     "execution_count": 33,
     "metadata": {},
     "output_type": "execute_result"
    },
    {
     "data": {
      "image/png": "[encoded data removed]",
      "text/plain": [
       "<Figure size 432x288 with 1 Axes>"
      ]
     },
     "metadata": {
      "needs_background": "light"
     },
     "output_type": "display_data"
    }
   ],
   "source": [
    "sns.pointplot(x='Education', y='Salary', data=m1, hue='Occupation', ci=None)"
   ]
  },
  {
   "cell_type": "code",
   "execution_count": 36,
   "metadata": {},
   "outputs": [
    {
     "data": {
      "image/png": "[encoded data removed]",
      "text/plain": [
       "<Figure size 360x360 with 1 Axes>"
      ]
     },
     "metadata": {
      "needs_background": "light"
     },
     "output_type": "display_data"
    }
   ],
   "source": [
    "import matplotlib.pyplot as plt\n",
    "plt.figure(figsize=(5,5))\n",
    "ax = sns.barplot(x=\"Education\",y='Salary',data=m1)"
   ]
  }
 ],
 "metadata": {
  "kernelspec": {
   "display_name": "Python 3",
   "language": "python",
   "name": "python3"
  },
  "language_info": {
   "codemirror_mode": {
    "name": "ipython",
    "version": 3
   },
   "file_extension": ".py",
   "mimetype": "text/x-python",
   "name": "python",
   "nbconvert_exporter": "python",
   "pygments_lexer": "ipython3",
   "version": "3.8.3"
  }
 },
 "nbformat": 4,
 "nbformat_minor": 4
}
