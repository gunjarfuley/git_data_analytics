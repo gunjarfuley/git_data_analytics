{
 "cells": [
  {
   "cell_type": "code",
   "execution_count": 1,
   "metadata": {},
   "outputs": [],
   "source": [
    "#Importing the libraries\n",
    "import numpy as np\n",
    "import matplotlib.pyplot as plt\n",
    "import pandas as pd\n",
    "import seaborn as sns\n",
    "color = sns.color_palette()\n",
    "import sklearn.metrics as metrics\n",
    "\n",
    "import warnings\n",
    "warnings.filterwarnings(\"ignore\")"
   ]
  },
  {
   "cell_type": "code",
   "execution_count": 2,
   "metadata": {},
   "outputs": [],
   "source": [
    "#Importing the dataset\n",
    "a = pd.read_csv('Company_Data2015-1.csv')"
   ]
  },
  {
   "cell_type": "code",
   "execution_count": 3,
   "metadata": {},
   "outputs": [
    {
     "data": {
      "text/html": [
       "<div>\n",
       "<style scoped>\n",
       "    .dataframe tbody tr th:only-of-type {\n",
       "        vertical-align: middle;\n",
       "    }\n",
       "\n",
       "    .dataframe tbody tr th {\n",
       "        vertical-align: top;\n",
       "    }\n",
       "\n",
       "    .dataframe thead th {\n",
       "        text-align: right;\n",
       "    }\n",
       "</style>\n",
       "<table border=\"1\" class=\"dataframe\">\n",
       "  <thead>\n",
       "    <tr style=\"text-align: right;\">\n",
       "      <th></th>\n",
       "      <th>Co_Code</th>\n",
       "      <th>Co_Name</th>\n",
       "      <th>Networth Next Year</th>\n",
       "      <th>Equity Paid Up</th>\n",
       "      <th>Networth</th>\n",
       "      <th>Capital Employed</th>\n",
       "      <th>Total Debt</th>\n",
       "      <th>Gross Block</th>\n",
       "      <th>Net Working Capital</th>\n",
       "      <th>Current Assets</th>\n",
       "      <th>...</th>\n",
       "      <th>Unnamed: 70</th>\n",
       "      <th>Unnamed: 71</th>\n",
       "      <th>Unnamed: 72</th>\n",
       "      <th>Unnamed: 73</th>\n",
       "      <th>Unnamed: 74</th>\n",
       "      <th>Unnamed: 75</th>\n",
       "      <th>Unnamed: 76</th>\n",
       "      <th>Unnamed: 77</th>\n",
       "      <th>Unnamed: 78</th>\n",
       "      <th>Unnamed: 79</th>\n",
       "    </tr>\n",
       "  </thead>\n",
       "  <tbody>\n",
       "    <tr>\n",
       "      <th>0</th>\n",
       "      <td>16974.0</td>\n",
       "      <td>Hind.Cables</td>\n",
       "      <td>-8021.60</td>\n",
       "      <td>419.36</td>\n",
       "      <td>-7,027.48</td>\n",
       "      <td>-1,007.24</td>\n",
       "      <td>5,936.03</td>\n",
       "      <td>474.3</td>\n",
       "      <td>-1,076.34</td>\n",
       "      <td>40.5</td>\n",
       "      <td>...</td>\n",
       "      <td>NaN</td>\n",
       "      <td>NaN</td>\n",
       "      <td>NaN</td>\n",
       "      <td>NaN</td>\n",
       "      <td>NaN</td>\n",
       "      <td>NaN</td>\n",
       "      <td>NaN</td>\n",
       "      <td>NaN</td>\n",
       "      <td>NaN</td>\n",
       "      <td>NaN</td>\n",
       "    </tr>\n",
       "    <tr>\n",
       "      <th>1</th>\n",
       "      <td>21214.0</td>\n",
       "      <td>Tata Tele. Mah.</td>\n",
       "      <td>-3986.19</td>\n",
       "      <td>1,954.93</td>\n",
       "      <td>-2,968.08</td>\n",
       "      <td>4,458.20</td>\n",
       "      <td>7,410.18</td>\n",
       "      <td>9,070.86</td>\n",
       "      <td>-1,098.88</td>\n",
       "      <td>486.86</td>\n",
       "      <td>...</td>\n",
       "      <td>NaN</td>\n",
       "      <td>NaN</td>\n",
       "      <td>NaN</td>\n",
       "      <td>NaN</td>\n",
       "      <td>NaN</td>\n",
       "      <td>NaN</td>\n",
       "      <td>NaN</td>\n",
       "      <td>NaN</td>\n",
       "      <td>NaN</td>\n",
       "      <td>NaN</td>\n",
       "    </tr>\n",
       "    <tr>\n",
       "      <th>2</th>\n",
       "      <td>14852.0</td>\n",
       "      <td>ABG Shipyard</td>\n",
       "      <td>-3192.58</td>\n",
       "      <td>53.84</td>\n",
       "      <td>506.86</td>\n",
       "      <td>7,714.68</td>\n",
       "      <td>6,944.54</td>\n",
       "      <td>1,281.54</td>\n",
       "      <td>4,496.25</td>\n",
       "      <td>9,097.64</td>\n",
       "      <td>...</td>\n",
       "      <td>NaN</td>\n",
       "      <td>NaN</td>\n",
       "      <td>NaN</td>\n",
       "      <td>NaN</td>\n",
       "      <td>NaN</td>\n",
       "      <td>NaN</td>\n",
       "      <td>NaN</td>\n",
       "      <td>NaN</td>\n",
       "      <td>NaN</td>\n",
       "      <td>NaN</td>\n",
       "    </tr>\n",
       "    <tr>\n",
       "      <th>3</th>\n",
       "      <td>2439.0</td>\n",
       "      <td>GTL</td>\n",
       "      <td>-3054.51</td>\n",
       "      <td>157.3</td>\n",
       "      <td>-623.49</td>\n",
       "      <td>2,353.88</td>\n",
       "      <td>2,326.05</td>\n",
       "      <td>1,033.69</td>\n",
       "      <td>-2,612.42</td>\n",
       "      <td>1,034.12</td>\n",
       "      <td>...</td>\n",
       "      <td>NaN</td>\n",
       "      <td>NaN</td>\n",
       "      <td>NaN</td>\n",
       "      <td>NaN</td>\n",
       "      <td>NaN</td>\n",
       "      <td>NaN</td>\n",
       "      <td>NaN</td>\n",
       "      <td>NaN</td>\n",
       "      <td>NaN</td>\n",
       "      <td>NaN</td>\n",
       "    </tr>\n",
       "    <tr>\n",
       "      <th>4</th>\n",
       "      <td>23505.0</td>\n",
       "      <td>Bharati Defence</td>\n",
       "      <td>-2967.36</td>\n",
       "      <td>50.3</td>\n",
       "      <td>-1,070.83</td>\n",
       "      <td>4,675.33</td>\n",
       "      <td>5,740.90</td>\n",
       "      <td>1,084.20</td>\n",
       "      <td>1,836.23</td>\n",
       "      <td>4,685.81</td>\n",
       "      <td>...</td>\n",
       "      <td>NaN</td>\n",
       "      <td>NaN</td>\n",
       "      <td>NaN</td>\n",
       "      <td>NaN</td>\n",
       "      <td>NaN</td>\n",
       "      <td>NaN</td>\n",
       "      <td>NaN</td>\n",
       "      <td>NaN</td>\n",
       "      <td>NaN</td>\n",
       "      <td>NaN</td>\n",
       "    </tr>\n",
       "  </tbody>\n",
       "</table>\n",
       "<p>5 rows × 80 columns</p>\n",
       "</div>"
      ],
      "text/plain": [
       "   Co_Code          Co_Name  Networth Next Year Equity Paid Up   Networth  \\\n",
       "0  16974.0      Hind.Cables            -8021.60         419.36  -7,027.48   \n",
       "1  21214.0  Tata Tele. Mah.            -3986.19       1,954.93  -2,968.08   \n",
       "2  14852.0     ABG Shipyard            -3192.58          53.84     506.86   \n",
       "3   2439.0              GTL            -3054.51          157.3    -623.49   \n",
       "4  23505.0  Bharati Defence            -2967.36           50.3  -1,070.83   \n",
       "\n",
       "  Capital Employed Total Debt Gross Block  Net Working Capital   \\\n",
       "0        -1,007.24   5,936.03        474.3            -1,076.34   \n",
       "1         4,458.20   7,410.18     9,070.86            -1,098.88   \n",
       "2         7,714.68   6,944.54     1,281.54             4,496.25   \n",
       "3         2,353.88   2,326.05     1,033.69            -2,612.42   \n",
       "4         4,675.33   5,740.90     1,084.20             1,836.23   \n",
       "\n",
       "  Current Assets   ... Unnamed: 70 Unnamed: 71 Unnamed: 72 Unnamed: 73  \\\n",
       "0            40.5  ...         NaN         NaN         NaN         NaN   \n",
       "1          486.86  ...         NaN         NaN         NaN         NaN   \n",
       "2        9,097.64  ...         NaN         NaN         NaN         NaN   \n",
       "3        1,034.12  ...         NaN         NaN         NaN         NaN   \n",
       "4        4,685.81  ...         NaN         NaN         NaN         NaN   \n",
       "\n",
       "  Unnamed: 74 Unnamed: 75 Unnamed: 76 Unnamed: 77 Unnamed: 78 Unnamed: 79  \n",
       "0         NaN         NaN         NaN         NaN         NaN         NaN  \n",
       "1         NaN         NaN         NaN         NaN         NaN         NaN  \n",
       "2         NaN         NaN         NaN         NaN         NaN         NaN  \n",
       "3         NaN         NaN         NaN         NaN         NaN         NaN  \n",
       "4         NaN         NaN         NaN         NaN         NaN         NaN  \n",
       "\n",
       "[5 rows x 80 columns]"
      ]
     },
     "execution_count": 3,
     "metadata": {},
     "output_type": "execute_result"
    }
   ],
   "source": [
    "#Checking the dataset\n",
    "a.head()"
   ]
  },
  {
   "cell_type": "code",
   "execution_count": 4,
   "metadata": {},
   "outputs": [
    {
     "data": {
      "text/html": [
       "<div>\n",
       "<style scoped>\n",
       "    .dataframe tbody tr th:only-of-type {\n",
       "        vertical-align: middle;\n",
       "    }\n",
       "\n",
       "    .dataframe tbody tr th {\n",
       "        vertical-align: top;\n",
       "    }\n",
       "\n",
       "    .dataframe thead th {\n",
       "        text-align: right;\n",
       "    }\n",
       "</style>\n",
       "<table border=\"1\" class=\"dataframe\">\n",
       "  <thead>\n",
       "    <tr style=\"text-align: right;\">\n",
       "      <th></th>\n",
       "      <th>Co_Code</th>\n",
       "      <th>Co_Name</th>\n",
       "      <th>Networth Next Year</th>\n",
       "      <th>Equity Paid Up</th>\n",
       "      <th>Networth</th>\n",
       "      <th>Capital Employed</th>\n",
       "      <th>Total Debt</th>\n",
       "      <th>Gross Block</th>\n",
       "      <th>Net Working Capital</th>\n",
       "      <th>Current Assets</th>\n",
       "      <th>...</th>\n",
       "      <th>Unnamed: 70</th>\n",
       "      <th>Unnamed: 71</th>\n",
       "      <th>Unnamed: 72</th>\n",
       "      <th>Unnamed: 73</th>\n",
       "      <th>Unnamed: 74</th>\n",
       "      <th>Unnamed: 75</th>\n",
       "      <th>Unnamed: 76</th>\n",
       "      <th>Unnamed: 77</th>\n",
       "      <th>Unnamed: 78</th>\n",
       "      <th>Unnamed: 79</th>\n",
       "    </tr>\n",
       "  </thead>\n",
       "  <tbody>\n",
       "    <tr>\n",
       "      <th>5058</th>\n",
       "      <td>NaN</td>\n",
       "      <td>NaN</td>\n",
       "      <td>NaN</td>\n",
       "      <td>NaN</td>\n",
       "      <td>NaN</td>\n",
       "      <td>NaN</td>\n",
       "      <td>NaN</td>\n",
       "      <td>NaN</td>\n",
       "      <td>NaN</td>\n",
       "      <td>NaN</td>\n",
       "      <td>...</td>\n",
       "      <td>NaN</td>\n",
       "      <td>NaN</td>\n",
       "      <td>NaN</td>\n",
       "      <td>NaN</td>\n",
       "      <td>NaN</td>\n",
       "      <td>NaN</td>\n",
       "      <td>NaN</td>\n",
       "      <td>NaN</td>\n",
       "      <td>NaN</td>\n",
       "      <td>NaN</td>\n",
       "    </tr>\n",
       "    <tr>\n",
       "      <th>5059</th>\n",
       "      <td>NaN</td>\n",
       "      <td>NaN</td>\n",
       "      <td>NaN</td>\n",
       "      <td>NaN</td>\n",
       "      <td>NaN</td>\n",
       "      <td>NaN</td>\n",
       "      <td>NaN</td>\n",
       "      <td>NaN</td>\n",
       "      <td>NaN</td>\n",
       "      <td>NaN</td>\n",
       "      <td>...</td>\n",
       "      <td>NaN</td>\n",
       "      <td>NaN</td>\n",
       "      <td>NaN</td>\n",
       "      <td>NaN</td>\n",
       "      <td>NaN</td>\n",
       "      <td>NaN</td>\n",
       "      <td>NaN</td>\n",
       "      <td>NaN</td>\n",
       "      <td>NaN</td>\n",
       "      <td>NaN</td>\n",
       "    </tr>\n",
       "    <tr>\n",
       "      <th>5060</th>\n",
       "      <td>NaN</td>\n",
       "      <td>NaN</td>\n",
       "      <td>NaN</td>\n",
       "      <td>NaN</td>\n",
       "      <td>NaN</td>\n",
       "      <td>NaN</td>\n",
       "      <td>NaN</td>\n",
       "      <td>NaN</td>\n",
       "      <td>NaN</td>\n",
       "      <td>NaN</td>\n",
       "      <td>...</td>\n",
       "      <td>NaN</td>\n",
       "      <td>NaN</td>\n",
       "      <td>NaN</td>\n",
       "      <td>NaN</td>\n",
       "      <td>NaN</td>\n",
       "      <td>NaN</td>\n",
       "      <td>NaN</td>\n",
       "      <td>NaN</td>\n",
       "      <td>NaN</td>\n",
       "      <td>NaN</td>\n",
       "    </tr>\n",
       "    <tr>\n",
       "      <th>5061</th>\n",
       "      <td>NaN</td>\n",
       "      <td>NaN</td>\n",
       "      <td>NaN</td>\n",
       "      <td>NaN</td>\n",
       "      <td>NaN</td>\n",
       "      <td>NaN</td>\n",
       "      <td>NaN</td>\n",
       "      <td>NaN</td>\n",
       "      <td>NaN</td>\n",
       "      <td>NaN</td>\n",
       "      <td>...</td>\n",
       "      <td>NaN</td>\n",
       "      <td>NaN</td>\n",
       "      <td>NaN</td>\n",
       "      <td>NaN</td>\n",
       "      <td>NaN</td>\n",
       "      <td>NaN</td>\n",
       "      <td>NaN</td>\n",
       "      <td>NaN</td>\n",
       "      <td>NaN</td>\n",
       "      <td>NaN</td>\n",
       "    </tr>\n",
       "    <tr>\n",
       "      <th>5062</th>\n",
       "      <td>NaN</td>\n",
       "      <td>NaN</td>\n",
       "      <td>NaN</td>\n",
       "      <td>NaN</td>\n",
       "      <td>NaN</td>\n",
       "      <td>NaN</td>\n",
       "      <td>NaN</td>\n",
       "      <td>NaN</td>\n",
       "      <td>NaN</td>\n",
       "      <td>NaN</td>\n",
       "      <td>...</td>\n",
       "      <td>NaN</td>\n",
       "      <td>NaN</td>\n",
       "      <td>NaN</td>\n",
       "      <td>NaN</td>\n",
       "      <td>NaN</td>\n",
       "      <td>NaN</td>\n",
       "      <td>NaN</td>\n",
       "      <td>NaN</td>\n",
       "      <td>NaN</td>\n",
       "      <td>NaN</td>\n",
       "    </tr>\n",
       "  </tbody>\n",
       "</table>\n",
       "<p>5 rows × 80 columns</p>\n",
       "</div>"
      ],
      "text/plain": [
       "      Co_Code Co_Name  Networth Next Year Equity Paid Up Networth  \\\n",
       "5058      NaN     NaN                 NaN            NaN      NaN   \n",
       "5059      NaN     NaN                 NaN            NaN      NaN   \n",
       "5060      NaN     NaN                 NaN            NaN      NaN   \n",
       "5061      NaN     NaN                 NaN            NaN      NaN   \n",
       "5062      NaN     NaN                 NaN            NaN      NaN   \n",
       "\n",
       "     Capital Employed Total Debt Gross Block  Net Working Capital   \\\n",
       "5058              NaN        NaN          NaN                  NaN   \n",
       "5059              NaN        NaN          NaN                  NaN   \n",
       "5060              NaN        NaN          NaN                  NaN   \n",
       "5061              NaN        NaN          NaN                  NaN   \n",
       "5062              NaN        NaN          NaN                  NaN   \n",
       "\n",
       "     Current Assets   ... Unnamed: 70 Unnamed: 71 Unnamed: 72 Unnamed: 73  \\\n",
       "5058             NaN  ...         NaN         NaN         NaN         NaN   \n",
       "5059             NaN  ...         NaN         NaN         NaN         NaN   \n",
       "5060             NaN  ...         NaN         NaN         NaN         NaN   \n",
       "5061             NaN  ...         NaN         NaN         NaN         NaN   \n",
       "5062             NaN  ...         NaN         NaN         NaN         NaN   \n",
       "\n",
       "     Unnamed: 74 Unnamed: 75 Unnamed: 76 Unnamed: 77 Unnamed: 78 Unnamed: 79  \n",
       "5058         NaN         NaN         NaN         NaN         NaN         NaN  \n",
       "5059         NaN         NaN         NaN         NaN         NaN         NaN  \n",
       "5060         NaN         NaN         NaN         NaN         NaN         NaN  \n",
       "5061         NaN         NaN         NaN         NaN         NaN         NaN  \n",
       "5062         NaN         NaN         NaN         NaN         NaN         NaN  \n",
       "\n",
       "[5 rows x 80 columns]"
      ]
     },
     "execution_count": 4,
     "metadata": {},
     "output_type": "execute_result"
    }
   ],
   "source": [
    "a.tail()"
   ]
  },
  {
   "cell_type": "code",
   "execution_count": 5,
   "metadata": {},
   "outputs": [
    {
     "name": "stdout",
     "output_type": "stream",
     "text": [
      "<class 'pandas.core.frame.DataFrame'>\n",
      "RangeIndex: 5063 entries, 0 to 5062\n",
      "Data columns (total 80 columns):\n",
      " #   Column                               Non-Null Count  Dtype  \n",
      "---  ------                               --------------  -----  \n",
      " 0   Co_Code                              3586 non-null   float64\n",
      " 1   Co_Name                              3586 non-null   object \n",
      " 2   Networth Next Year                   3586 non-null   float64\n",
      " 3   Equity Paid Up                       3586 non-null   object \n",
      " 4   Networth                             3586 non-null   object \n",
      " 5   Capital Employed                     3586 non-null   object \n",
      " 6   Total Debt                           3586 non-null   object \n",
      " 7   Gross Block                          3586 non-null   object \n",
      " 8   Net Working Capital                  3586 non-null   object \n",
      " 9   Current Assets                       3586 non-null   object \n",
      " 10  Current Liabilities and Provisions   3586 non-null   object \n",
      " 11  Total Assets/Liabilities             3586 non-null   object \n",
      " 12  Gross Sales                          3586 non-null   object \n",
      " 13  Net Sales                            3586 non-null   object \n",
      " 14  Other Income                         3586 non-null   object \n",
      " 15  Value Of Output                      3586 non-null   object \n",
      " 16  Cost of Production                   3586 non-null   object \n",
      " 17  Selling Cost                         3586 non-null   object \n",
      " 18  PBIDT                                3586 non-null   object \n",
      " 19  PBDT                                 3586 non-null   object \n",
      " 20  PBIT                                 3586 non-null   object \n",
      " 21  PBT                                  3586 non-null   object \n",
      " 22  PAT                                  3586 non-null   object \n",
      " 23  Adjusted PAT                         3586 non-null   object \n",
      " 24  CP                                   3586 non-null   object \n",
      " 25  Revenue earnings in forex            3586 non-null   object \n",
      " 26  Revenue expenses in forex            3586 non-null   object \n",
      " 27  Capital expenses in forex            3586 non-null   object \n",
      " 28  Book Value (Unit Curr)               3586 non-null   object \n",
      " 29  Book Value (Adj.) (Unit Curr)        3582 non-null   object \n",
      " 30  Market Capitalisation                3586 non-null   object \n",
      " 31  CEPS (annualised) (Unit Curr)        3586 non-null   object \n",
      " 32  Cash Flow From Operating Activities  3586 non-null   object \n",
      " 33  Cash Flow From Investing Activities  3586 non-null   object \n",
      " 34  Cash Flow From Financing Activities  3586 non-null   object \n",
      " 35  ROG-Net Worth (%)                    3586 non-null   object \n",
      " 36  ROG-Capital Employed (%)             3586 non-null   object \n",
      " 37  ROG-Gross Block (%)                  3586 non-null   object \n",
      " 38  ROG-Gross Sales (%)                  3586 non-null   object \n",
      " 39  ROG-Net Sales (%)                    3586 non-null   object \n",
      " 40  ROG-Cost of Production (%)           3586 non-null   object \n",
      " 41  ROG-Total Assets (%)                 3586 non-null   object \n",
      " 42  ROG-PBIDT (%)                        3586 non-null   object \n",
      " 43  ROG-PBDT (%)                         3586 non-null   object \n",
      " 44  ROG-PBIT (%)                         3586 non-null   object \n",
      " 45  ROG-PBT (%)                          3586 non-null   object \n",
      " 46  ROG-PAT (%)                          3586 non-null   object \n",
      " 47  ROG-CP (%)                           3586 non-null   object \n",
      " 48  ROG-Revenue earnings in forex (%)    3586 non-null   object \n",
      " 49  ROG-Revenue expenses in forex (%)    3586 non-null   object \n",
      " 50  ROG-Market Capitalisation (%)        3586 non-null   object \n",
      " 51  Current Ratio[Latest]                3585 non-null   object \n",
      " 52  Fixed Assets Ratio[Latest]           3585 non-null   object \n",
      " 53  Inventory Ratio[Latest]              3585 non-null   object \n",
      " 54  Debtors Ratio[Latest]                3585 non-null   object \n",
      " 55  Total Asset Turnover Ratio[Latest]   3585 non-null   float64\n",
      " 56  Interest Cover Ratio[Latest]         3585 non-null   object \n",
      " 57  PBIDTM (%)[Latest]                   3585 non-null   object \n",
      " 58  PBITM (%)[Latest]                    3585 non-null   object \n",
      " 59  PBDTM (%)[Latest]                    3585 non-null   object \n",
      " 60  CPM (%)[Latest]                      3585 non-null   object \n",
      " 61  APATM (%)[Latest]                    3585 non-null   object \n",
      " 62  Debtors Velocity (Days)              3586 non-null   object \n",
      " 63  Creditors Velocity (Days)            3586 non-null   object \n",
      " 64  Inventory Velocity (Days)            3483 non-null   float64\n",
      " 65  Value of Output/Total Assets         3586 non-null   float64\n",
      " 66  Value of Output/Gross Block          3586 non-null   object \n",
      " 67  Unnamed: 67                          0 non-null      float64\n",
      " 68  Unnamed: 68                          0 non-null      float64\n",
      " 69  Unnamed: 69                          0 non-null      float64\n",
      " 70  Unnamed: 70                          0 non-null      float64\n",
      " 71  Unnamed: 71                          0 non-null      float64\n",
      " 72  Unnamed: 72                          0 non-null      float64\n",
      " 73  Unnamed: 73                          0 non-null      float64\n",
      " 74  Unnamed: 74                          0 non-null      float64\n",
      " 75  Unnamed: 75                          0 non-null      float64\n",
      " 76  Unnamed: 76                          0 non-null      float64\n",
      " 77  Unnamed: 77                          0 non-null      float64\n",
      " 78  Unnamed: 78                          0 non-null      float64\n",
      " 79  Unnamed: 79                          0 non-null      float64\n",
      "dtypes: float64(18), object(62)\n",
      "memory usage: 3.1+ MB\n"
     ]
    }
   ],
   "source": [
    "a.info()"
   ]
  },
  {
   "cell_type": "code",
   "execution_count": 6,
   "metadata": {},
   "outputs": [
    {
     "data": {
      "text/plain": [
       "Index(['Co_Code', 'Co_Name', 'Networth Next Year', 'Equity Paid Up',\n",
       "       'Networth', 'Capital Employed', 'Total Debt', 'Gross Block ',\n",
       "       'Net Working Capital ', 'Current Assets ',\n",
       "       'Current Liabilities and Provisions ', 'Total Assets/Liabilities ',\n",
       "       'Gross Sales', 'Net Sales', 'Other Income', 'Value Of Output',\n",
       "       'Cost of Production', 'Selling Cost', 'PBIDT', 'PBDT', 'PBIT', 'PBT',\n",
       "       'PAT', 'Adjusted PAT', 'CP', 'Revenue earnings in forex',\n",
       "       'Revenue expenses in forex', 'Capital expenses in forex',\n",
       "       'Book Value (Unit Curr)', 'Book Value (Adj.) (Unit Curr)',\n",
       "       'Market Capitalisation', 'CEPS (annualised) (Unit Curr)',\n",
       "       'Cash Flow From Operating Activities',\n",
       "       'Cash Flow From Investing Activities',\n",
       "       'Cash Flow From Financing Activities', 'ROG-Net Worth (%)',\n",
       "       'ROG-Capital Employed (%)', 'ROG-Gross Block (%)',\n",
       "       'ROG-Gross Sales (%)', 'ROG-Net Sales (%)',\n",
       "       'ROG-Cost of Production (%)', 'ROG-Total Assets (%)', 'ROG-PBIDT (%)',\n",
       "       'ROG-PBDT (%)', 'ROG-PBIT (%)', 'ROG-PBT (%)', 'ROG-PAT (%)',\n",
       "       'ROG-CP (%)', 'ROG-Revenue earnings in forex (%)',\n",
       "       'ROG-Revenue expenses in forex (%)', 'ROG-Market Capitalisation (%)',\n",
       "       'Current Ratio[Latest]', 'Fixed Assets Ratio[Latest]',\n",
       "       'Inventory Ratio[Latest]', 'Debtors Ratio[Latest]',\n",
       "       'Total Asset Turnover Ratio[Latest]', 'Interest Cover Ratio[Latest]',\n",
       "       'PBIDTM (%)[Latest]', 'PBITM (%)[Latest]', 'PBDTM (%)[Latest]',\n",
       "       'CPM (%)[Latest]', 'APATM (%)[Latest]', 'Debtors Velocity (Days)',\n",
       "       'Creditors Velocity (Days)', 'Inventory Velocity (Days)',\n",
       "       'Value of Output/Total Assets', 'Value of Output/Gross Block',\n",
       "       'Unnamed: 67', 'Unnamed: 68', 'Unnamed: 69', 'Unnamed: 70',\n",
       "       'Unnamed: 71', 'Unnamed: 72', 'Unnamed: 73', 'Unnamed: 74',\n",
       "       'Unnamed: 75', 'Unnamed: 76', 'Unnamed: 77', 'Unnamed: 78',\n",
       "       'Unnamed: 79'],\n",
       "      dtype='object')"
      ]
     },
     "execution_count": 6,
     "metadata": {},
     "output_type": "execute_result"
    }
   ],
   "source": [
    "a.columns"
   ]
  },
  {
   "cell_type": "code",
   "execution_count": 7,
   "metadata": {},
   "outputs": [],
   "source": [
    "a.rename(columns = {'Equity Paid Up':'Equity_Paid_Up', 'Networth Next Year':'Networth_Next_Year', 'Capital Employed': 'Capital_Employed', 'Total Debt': 'Total_Debt', 'Gross Block ': 'Gross_Block', 'Net Working Capital ': 'Net_Working_Capital', 'Current Assets ': 'Curr_Assets', 'Current Liabilities and Provisions ': 'Curr_Liab_and_Prov', 'Total Assets/Liabilities ': 'Total_Assets_to_Liab', 'Gross Sales': 'Gross_Sales', 'Net Sales': 'Net_Sales', 'Other Income': 'Other_Income', 'Value Of Output': 'Value_Of_Output', 'Cost of Production': 'Cost_of_Prod', 'Selling Cost': 'Selling_Cost', 'Adjusted PAT': 'Adjusted_PAT', 'Revenue earnings in forex': 'Rev_earn_in_forex', 'Revenue expenses in forex': 'Rev_exp_in_forex', 'Capital expenses in forex': 'Capital_exp_in_forex', 'Book Value (Unit Curr)': 'Book_Value_Unit_Curr', 'Book Value (Adj.) (Unit Curr)': 'Book_Value_Adj_Unit_Curr', 'Market Capitalisation': 'Market_Capitalisation', 'CEPS (annualised) (Unit Curr)': 'CEPS_annualised_Unit_Curr', 'Cash Flow From Operating Activities': 'Cash_Flow_From_Opr', 'Cash Flow From Investing Activities': 'Cash_Flow_From_Inv', 'Cash Flow From Financing Activities': 'Cash_Flow_From_Fin', 'ROG-Net Worth (%)': 'ROG_Net_Worth_perc', 'ROG-Capital Employed (%)': 'ROG_Capital_Employed_perc', 'ROG-Gross Block (%)': 'ROG_Gross_Block_perc', 'ROG-Gross Sales (%)':'ROG_Gross_Sales_perc', 'ROG-Net Sales (%)': 'ROG_Net_Sales_perc', 'ROG-Cost of Production (%)': 'ROG_Cost_of_Prod_perc', 'ROG-Total Assets (%)': 'ROG_Total_Assets_perc', 'ROG-PBIDT (%)': 'ROG_PBIDT_perc', 'ROG-PBDT (%)': 'ROG_PBDT_perc', 'ROG-PBIT (%)': 'ROG_PBIT_perc', 'ROG-PBT (%)': 'ROG_PBT_perc', 'ROG-PAT (%)': 'ROG_PAT_perc', 'ROG-CP (%)': 'ROG_CP_perc', 'ROG-Revenue earnings in forex (%)': 'ROG_Rev_earn_in_forex_perc', 'ROG-Revenue expenses in forex (%)': 'ROG_Rev_exp_in_forex_perc', 'ROG-Market Capitalisation (%)': 'ROG_Market_Capitalisation_perc', 'Current Ratio[Latest]': 'Curr_Ratio_Latest', 'Fixed Assets Ratio[Latest]': 'Fixed_Assets_Ratio_Latest', 'Inventory Ratio[Latest]': 'Inventory_Ratio_Latest', 'Debtors Ratio[Latest]': 'Debtors_Ratio_Latest', 'Total Asset Turnover Ratio[Latest]': 'Total_Asset_Turnover_Ratio_Latest', 'Interest Cover Ratio[Latest]': 'Interest_Cover_Ratio_Latest','PBIDTM (%)[Latest]': 'PBIDTM_perc_Latest', 'PBITM (%)[Latest]': 'PBITM_perc_Latest', 'PBDTM (%)[Latest]': 'PBDTM_perc_Latest', 'CPM (%)[Latest]': 'CPM_perc_Latest', 'APATM (%)[Latest]': 'APATM_perc_Latest', 'Debtors Velocity (Days)': 'Debtors_Vel_Days', 'Creditors Velocity (Days)': 'Creditors_Vel_Days', 'Inventory Velocity (Days)': 'Inventory_Vel_Days', 'Value of Output/Total Assets': 'Value_of_Output_to_Total_Assets', 'Value of Output/Gross Block': 'Value_of_Output_to_Gross_Block'}, inplace = True)"
   ]
  },
  {
   "cell_type": "code",
   "execution_count": 8,
   "metadata": {},
   "outputs": [
    {
     "name": "stdout",
     "output_type": "stream",
     "text": [
      "<class 'pandas.core.frame.DataFrame'>\n",
      "RangeIndex: 5063 entries, 0 to 5062\n",
      "Data columns (total 80 columns):\n",
      " #   Column                             Non-Null Count  Dtype  \n",
      "---  ------                             --------------  -----  \n",
      " 0   Co_Code                            3586 non-null   float64\n",
      " 1   Co_Name                            3586 non-null   object \n",
      " 2   Networth_Next_Year                 3586 non-null   float64\n",
      " 3   Equity_Paid_Up                     3586 non-null   object \n",
      " 4   Networth                           3586 non-null   object \n",
      " 5   Capital_Employed                   3586 non-null   object \n",
      " 6   Total_Debt                         3586 non-null   object \n",
      " 7   Gross_Block                        3586 non-null   object \n",
      " 8   Net_Working_Capital                3586 non-null   object \n",
      " 9   Curr_Assets                        3586 non-null   object \n",
      " 10  Curr_Liab_and_Prov                 3586 non-null   object \n",
      " 11  Total_Assets_to_Liab               3586 non-null   object \n",
      " 12  Gross_Sales                        3586 non-null   object \n",
      " 13  Net_Sales                          3586 non-null   object \n",
      " 14  Other_Income                       3586 non-null   object \n",
      " 15  Value_Of_Output                    3586 non-null   object \n",
      " 16  Cost_of_Prod                       3586 non-null   object \n",
      " 17  Selling_Cost                       3586 non-null   object \n",
      " 18  PBIDT                              3586 non-null   object \n",
      " 19  PBDT                               3586 non-null   object \n",
      " 20  PBIT                               3586 non-null   object \n",
      " 21  PBT                                3586 non-null   object \n",
      " 22  PAT                                3586 non-null   object \n",
      " 23  Adjusted_PAT                       3586 non-null   object \n",
      " 24  CP                                 3586 non-null   object \n",
      " 25  Rev_earn_in_forex                  3586 non-null   object \n",
      " 26  Rev_exp_in_forex                   3586 non-null   object \n",
      " 27  Capital_exp_in_forex               3586 non-null   object \n",
      " 28  Book_Value_Unit_Curr               3586 non-null   object \n",
      " 29  Book_Value_Adj_Unit_Curr           3582 non-null   object \n",
      " 30  Market_Capitalisation              3586 non-null   object \n",
      " 31  CEPS_annualised_Unit_Curr          3586 non-null   object \n",
      " 32  Cash_Flow_From_Opr                 3586 non-null   object \n",
      " 33  Cash_Flow_From_Inv                 3586 non-null   object \n",
      " 34  Cash_Flow_From_Fin                 3586 non-null   object \n",
      " 35  ROG_Net_Worth_perc                 3586 non-null   object \n",
      " 36  ROG_Capital_Employed_perc          3586 non-null   object \n",
      " 37  ROG_Gross_Block_perc               3586 non-null   object \n",
      " 38  ROG_Gross_Sales_perc               3586 non-null   object \n",
      " 39  ROG_Net_Sales_perc                 3586 non-null   object \n",
      " 40  ROG_Cost_of_Prod_perc              3586 non-null   object \n",
      " 41  ROG_Total_Assets_perc              3586 non-null   object \n",
      " 42  ROG_PBIDT_perc                     3586 non-null   object \n",
      " 43  ROG_PBDT_perc                      3586 non-null   object \n",
      " 44  ROG_PBIT_perc                      3586 non-null   object \n",
      " 45  ROG_PBT_perc                       3586 non-null   object \n",
      " 46  ROG_PAT_perc                       3586 non-null   object \n",
      " 47  ROG_CP_perc                        3586 non-null   object \n",
      " 48  ROG_Rev_earn_in_forex_perc         3586 non-null   object \n",
      " 49  ROG_Rev_exp_in_forex_perc          3586 non-null   object \n",
      " 50  ROG_Market_Capitalisation_perc     3586 non-null   object \n",
      " 51  Curr_Ratio_Latest                  3585 non-null   object \n",
      " 52  Fixed_Assets_Ratio_Latest          3585 non-null   object \n",
      " 53  Inventory_Ratio_Latest             3585 non-null   object \n",
      " 54  Debtors_Ratio_Latest               3585 non-null   object \n",
      " 55  Total_Asset_Turnover_Ratio_Latest  3585 non-null   float64\n",
      " 56  Interest_Cover_Ratio_Latest        3585 non-null   object \n",
      " 57  PBIDTM_perc_Latest                 3585 non-null   object \n",
      " 58  PBITM_perc_Latest                  3585 non-null   object \n",
      " 59  PBDTM_perc_Latest                  3585 non-null   object \n",
      " 60  CPM_perc_Latest                    3585 non-null   object \n",
      " 61  APATM_perc_Latest                  3585 non-null   object \n",
      " 62  Debtors_Vel_Days                   3586 non-null   object \n",
      " 63  Creditors_Vel_Days                 3586 non-null   object \n",
      " 64  Inventory_Vel_Days                 3483 non-null   float64\n",
      " 65  Value_of_Output_to_Total_Assets    3586 non-null   float64\n",
      " 66  Value_of_Output_to_Gross_Block     3586 non-null   object \n",
      " 67  Unnamed: 67                        0 non-null      float64\n",
      " 68  Unnamed: 68                        0 non-null      float64\n",
      " 69  Unnamed: 69                        0 non-null      float64\n",
      " 70  Unnamed: 70                        0 non-null      float64\n",
      " 71  Unnamed: 71                        0 non-null      float64\n",
      " 72  Unnamed: 72                        0 non-null      float64\n",
      " 73  Unnamed: 73                        0 non-null      float64\n",
      " 74  Unnamed: 74                        0 non-null      float64\n",
      " 75  Unnamed: 75                        0 non-null      float64\n",
      " 76  Unnamed: 76                        0 non-null      float64\n",
      " 77  Unnamed: 77                        0 non-null      float64\n",
      " 78  Unnamed: 78                        0 non-null      float64\n",
      " 79  Unnamed: 79                        0 non-null      float64\n",
      "dtypes: float64(18), object(62)\n",
      "memory usage: 3.1+ MB\n"
     ]
    }
   ],
   "source": [
    "a.info()"
   ]
  },
  {
   "cell_type": "markdown",
   "metadata": {},
   "source": [
    "#### Dataset cleaning by removing the rows and columns with complete NaN values"
   ]
  },
  {
   "cell_type": "code",
   "execution_count": 9,
   "metadata": {},
   "outputs": [
    {
     "data": {
      "text/plain": [
       "Co_Code               1477\n",
       "Co_Name               1477\n",
       "Networth_Next_Year    1477\n",
       "Equity_Paid_Up        1477\n",
       "Networth              1477\n",
       "                      ... \n",
       "Unnamed: 75           5063\n",
       "Unnamed: 76           5063\n",
       "Unnamed: 77           5063\n",
       "Unnamed: 78           5063\n",
       "Unnamed: 79           5063\n",
       "Length: 80, dtype: int64"
      ]
     },
     "execution_count": 9,
     "metadata": {},
     "output_type": "execute_result"
    }
   ],
   "source": [
    "a.isnull().sum()"
   ]
  },
  {
   "cell_type": "markdown",
   "metadata": {},
   "source": [
    "Removing 100% NaN columns & Rows"
   ]
  },
  {
   "cell_type": "code",
   "execution_count": 10,
   "metadata": {},
   "outputs": [],
   "source": [
    "a = a.dropna(how = 'all', axis = 1)"
   ]
  },
  {
   "cell_type": "code",
   "execution_count": 11,
   "metadata": {},
   "outputs": [],
   "source": [
    "a = a.dropna(how = 'all', axis = 0)"
   ]
  },
  {
   "cell_type": "code",
   "execution_count": 12,
   "metadata": {},
   "outputs": [
    {
     "data": {
      "text/plain": [
       "Co_Code                              0\n",
       "Co_Name                              0\n",
       "Networth_Next_Year                   0\n",
       "Equity_Paid_Up                       0\n",
       "Networth                             0\n",
       "                                  ... \n",
       "Debtors_Vel_Days                     0\n",
       "Creditors_Vel_Days                   0\n",
       "Inventory_Vel_Days                 103\n",
       "Value_of_Output_to_Total_Assets      0\n",
       "Value_of_Output_to_Gross_Block       0\n",
       "Length: 67, dtype: int64"
      ]
     },
     "execution_count": 12,
     "metadata": {},
     "output_type": "execute_result"
    }
   ],
   "source": [
    "a.isnull().sum()"
   ]
  },
  {
   "cell_type": "markdown",
   "metadata": {},
   "source": [
    "#### Now, let us check the number of rows (observations) and the number of columns (variables)"
   ]
  },
  {
   "cell_type": "code",
   "execution_count": 13,
   "metadata": {},
   "outputs": [
    {
     "name": "stdout",
     "output_type": "stream",
     "text": [
      "The number of rows (observations) is 3586 \n",
      "The number of columns (variables) is 67\n"
     ]
    }
   ],
   "source": [
    "print('The number of rows (observations) is',a.shape[0],'\\n''The number of columns (variables) is',a.shape[1])"
   ]
  },
  {
   "cell_type": "markdown",
   "metadata": {},
   "source": [
    "#### Creating a binary target variable using 'Networth Next Year' "
   ]
  },
  {
   "cell_type": "code",
   "execution_count": 14,
   "metadata": {},
   "outputs": [],
   "source": [
    "a['default'] = np.where((a['Networth_Next_Year'] > 0), 0, 1)"
   ]
  },
  {
   "cell_type": "markdown",
   "metadata": {},
   "source": [
    "#### Checking top & bottom 5 rows"
   ]
  },
  {
   "cell_type": "code",
   "execution_count": 15,
   "metadata": {},
   "outputs": [
    {
     "data": {
      "text/html": [
       "<div>\n",
       "<style scoped>\n",
       "    .dataframe tbody tr th:only-of-type {\n",
       "        vertical-align: middle;\n",
       "    }\n",
       "\n",
       "    .dataframe tbody tr th {\n",
       "        vertical-align: top;\n",
       "    }\n",
       "\n",
       "    .dataframe thead th {\n",
       "        text-align: right;\n",
       "    }\n",
       "</style>\n",
       "<table border=\"1\" class=\"dataframe\">\n",
       "  <thead>\n",
       "    <tr style=\"text-align: right;\">\n",
       "      <th></th>\n",
       "      <th>default</th>\n",
       "      <th>Networth_Next_Year</th>\n",
       "    </tr>\n",
       "  </thead>\n",
       "  <tbody>\n",
       "    <tr>\n",
       "      <th>0</th>\n",
       "      <td>1</td>\n",
       "      <td>-8021.60</td>\n",
       "    </tr>\n",
       "    <tr>\n",
       "      <th>1</th>\n",
       "      <td>1</td>\n",
       "      <td>-3986.19</td>\n",
       "    </tr>\n",
       "    <tr>\n",
       "      <th>2</th>\n",
       "      <td>1</td>\n",
       "      <td>-3192.58</td>\n",
       "    </tr>\n",
       "    <tr>\n",
       "      <th>3</th>\n",
       "      <td>1</td>\n",
       "      <td>-3054.51</td>\n",
       "    </tr>\n",
       "    <tr>\n",
       "      <th>4</th>\n",
       "      <td>1</td>\n",
       "      <td>-2967.36</td>\n",
       "    </tr>\n",
       "  </tbody>\n",
       "</table>\n",
       "</div>"
      ],
      "text/plain": [
       "   default  Networth_Next_Year\n",
       "0        1            -8021.60\n",
       "1        1            -3986.19\n",
       "2        1            -3192.58\n",
       "3        1            -3054.51\n",
       "4        1            -2967.36"
      ]
     },
     "execution_count": 15,
     "metadata": {},
     "output_type": "execute_result"
    }
   ],
   "source": [
    "a[['default','Networth_Next_Year']].head(5)"
   ]
  },
  {
   "cell_type": "code",
   "execution_count": 16,
   "metadata": {},
   "outputs": [
    {
     "data": {
      "text/html": [
       "<div>\n",
       "<style scoped>\n",
       "    .dataframe tbody tr th:only-of-type {\n",
       "        vertical-align: middle;\n",
       "    }\n",
       "\n",
       "    .dataframe tbody tr th {\n",
       "        vertical-align: top;\n",
       "    }\n",
       "\n",
       "    .dataframe thead th {\n",
       "        text-align: right;\n",
       "    }\n",
       "</style>\n",
       "<table border=\"1\" class=\"dataframe\">\n",
       "  <thead>\n",
       "    <tr style=\"text-align: right;\">\n",
       "      <th></th>\n",
       "      <th>default</th>\n",
       "      <th>Networth_Next_Year</th>\n",
       "    </tr>\n",
       "  </thead>\n",
       "  <tbody>\n",
       "    <tr>\n",
       "      <th>3581</th>\n",
       "      <td>0</td>\n",
       "      <td>72677.77</td>\n",
       "    </tr>\n",
       "    <tr>\n",
       "      <th>3582</th>\n",
       "      <td>0</td>\n",
       "      <td>79162.19</td>\n",
       "    </tr>\n",
       "    <tr>\n",
       "      <th>3583</th>\n",
       "      <td>0</td>\n",
       "      <td>88134.31</td>\n",
       "    </tr>\n",
       "    <tr>\n",
       "      <th>3584</th>\n",
       "      <td>0</td>\n",
       "      <td>91293.70</td>\n",
       "    </tr>\n",
       "    <tr>\n",
       "      <th>3585</th>\n",
       "      <td>0</td>\n",
       "      <td>111729.10</td>\n",
       "    </tr>\n",
       "  </tbody>\n",
       "</table>\n",
       "</div>"
      ],
      "text/plain": [
       "      default  Networth_Next_Year\n",
       "3581        0            72677.77\n",
       "3582        0            79162.19\n",
       "3583        0            88134.31\n",
       "3584        0            91293.70\n",
       "3585        0           111729.10"
      ]
     },
     "execution_count": 16,
     "metadata": {},
     "output_type": "execute_result"
    }
   ],
   "source": [
    "a[['default','Networth_Next_Year']].tail(5)"
   ]
  },
  {
   "cell_type": "markdown",
   "metadata": {},
   "source": [
    "#### What does variable 'default' look like"
   ]
  },
  {
   "cell_type": "code",
   "execution_count": 17,
   "metadata": {},
   "outputs": [
    {
     "data": {
      "text/plain": [
       "0    3198\n",
       "1     388\n",
       "Name: default, dtype: int64"
      ]
     },
     "execution_count": 17,
     "metadata": {},
     "output_type": "execute_result"
    }
   ],
   "source": [
    "a['default'].value_counts()"
   ]
  },
  {
   "cell_type": "markdown",
   "metadata": {},
   "source": [
    "#### Checking proportion of default"
   ]
  },
  {
   "cell_type": "code",
   "execution_count": 18,
   "metadata": {},
   "outputs": [
    {
     "data": {
      "text/plain": [
       "0    0.891801\n",
       "1    0.108199\n",
       "Name: default, dtype: float64"
      ]
     },
     "execution_count": 18,
     "metadata": {},
     "output_type": "execute_result"
    }
   ],
   "source": [
    "a['default'].value_counts(normalize = True)\n",
    "#Approximately 11% of the total 3586 companies are defaulters"
   ]
  },
  {
   "cell_type": "markdown",
   "metadata": {},
   "source": [
    "#### Checking datatype of all columns"
   ]
  },
  {
   "cell_type": "code",
   "execution_count": 19,
   "metadata": {},
   "outputs": [
    {
     "data": {
      "text/plain": [
       "Co_Code                            float64\n",
       "Co_Name                             object\n",
       "Networth_Next_Year                 float64\n",
       "Equity_Paid_Up                      object\n",
       "Networth                            object\n",
       "                                    ...   \n",
       "Creditors_Vel_Days                  object\n",
       "Inventory_Vel_Days                 float64\n",
       "Value_of_Output_to_Total_Assets    float64\n",
       "Value_of_Output_to_Gross_Block      object\n",
       "default                              int32\n",
       "Length: 68, dtype: object"
      ]
     },
     "execution_count": 19,
     "metadata": {},
     "output_type": "execute_result"
    }
   ],
   "source": [
    "a.dtypes"
   ]
  },
  {
   "cell_type": "code",
   "execution_count": 20,
   "metadata": {},
   "outputs": [],
   "source": [
    "a['default'] = a['default'].astype('float64')"
   ]
  },
  {
   "cell_type": "code",
   "execution_count": 21,
   "metadata": {},
   "outputs": [
    {
     "name": "stdout",
     "output_type": "stream",
     "text": [
      "<class 'pandas.core.frame.DataFrame'>\n",
      "Int64Index: 3586 entries, 0 to 3585\n",
      "Data columns (total 68 columns):\n",
      " #   Column                             Non-Null Count  Dtype  \n",
      "---  ------                             --------------  -----  \n",
      " 0   Co_Code                            3586 non-null   float64\n",
      " 1   Co_Name                            3586 non-null   object \n",
      " 2   Networth_Next_Year                 3586 non-null   float64\n",
      " 3   Equity_Paid_Up                     3586 non-null   object \n",
      " 4   Networth                           3586 non-null   object \n",
      " 5   Capital_Employed                   3586 non-null   object \n",
      " 6   Total_Debt                         3586 non-null   object \n",
      " 7   Gross_Block                        3586 non-null   object \n",
      " 8   Net_Working_Capital                3586 non-null   object \n",
      " 9   Curr_Assets                        3586 non-null   object \n",
      " 10  Curr_Liab_and_Prov                 3586 non-null   object \n",
      " 11  Total_Assets_to_Liab               3586 non-null   object \n",
      " 12  Gross_Sales                        3586 non-null   object \n",
      " 13  Net_Sales                          3586 non-null   object \n",
      " 14  Other_Income                       3586 non-null   object \n",
      " 15  Value_Of_Output                    3586 non-null   object \n",
      " 16  Cost_of_Prod                       3586 non-null   object \n",
      " 17  Selling_Cost                       3586 non-null   object \n",
      " 18  PBIDT                              3586 non-null   object \n",
      " 19  PBDT                               3586 non-null   object \n",
      " 20  PBIT                               3586 non-null   object \n",
      " 21  PBT                                3586 non-null   object \n",
      " 22  PAT                                3586 non-null   object \n",
      " 23  Adjusted_PAT                       3586 non-null   object \n",
      " 24  CP                                 3586 non-null   object \n",
      " 25  Rev_earn_in_forex                  3586 non-null   object \n",
      " 26  Rev_exp_in_forex                   3586 non-null   object \n",
      " 27  Capital_exp_in_forex               3586 non-null   object \n",
      " 28  Book_Value_Unit_Curr               3586 non-null   object \n",
      " 29  Book_Value_Adj_Unit_Curr           3582 non-null   object \n",
      " 30  Market_Capitalisation              3586 non-null   object \n",
      " 31  CEPS_annualised_Unit_Curr          3586 non-null   object \n",
      " 32  Cash_Flow_From_Opr                 3586 non-null   object \n",
      " 33  Cash_Flow_From_Inv                 3586 non-null   object \n",
      " 34  Cash_Flow_From_Fin                 3586 non-null   object \n",
      " 35  ROG_Net_Worth_perc                 3586 non-null   object \n",
      " 36  ROG_Capital_Employed_perc          3586 non-null   object \n",
      " 37  ROG_Gross_Block_perc               3586 non-null   object \n",
      " 38  ROG_Gross_Sales_perc               3586 non-null   object \n",
      " 39  ROG_Net_Sales_perc                 3586 non-null   object \n",
      " 40  ROG_Cost_of_Prod_perc              3586 non-null   object \n",
      " 41  ROG_Total_Assets_perc              3586 non-null   object \n",
      " 42  ROG_PBIDT_perc                     3586 non-null   object \n",
      " 43  ROG_PBDT_perc                      3586 non-null   object \n",
      " 44  ROG_PBIT_perc                      3586 non-null   object \n",
      " 45  ROG_PBT_perc                       3586 non-null   object \n",
      " 46  ROG_PAT_perc                       3586 non-null   object \n",
      " 47  ROG_CP_perc                        3586 non-null   object \n",
      " 48  ROG_Rev_earn_in_forex_perc         3586 non-null   object \n",
      " 49  ROG_Rev_exp_in_forex_perc          3586 non-null   object \n",
      " 50  ROG_Market_Capitalisation_perc     3586 non-null   object \n",
      " 51  Curr_Ratio_Latest                  3585 non-null   object \n",
      " 52  Fixed_Assets_Ratio_Latest          3585 non-null   object \n",
      " 53  Inventory_Ratio_Latest             3585 non-null   object \n",
      " 54  Debtors_Ratio_Latest               3585 non-null   object \n",
      " 55  Total_Asset_Turnover_Ratio_Latest  3585 non-null   float64\n",
      " 56  Interest_Cover_Ratio_Latest        3585 non-null   object \n",
      " 57  PBIDTM_perc_Latest                 3585 non-null   object \n",
      " 58  PBITM_perc_Latest                  3585 non-null   object \n",
      " 59  PBDTM_perc_Latest                  3585 non-null   object \n",
      " 60  CPM_perc_Latest                    3585 non-null   object \n",
      " 61  APATM_perc_Latest                  3585 non-null   object \n",
      " 62  Debtors_Vel_Days                   3586 non-null   object \n",
      " 63  Creditors_Vel_Days                 3586 non-null   object \n",
      " 64  Inventory_Vel_Days                 3483 non-null   float64\n",
      " 65  Value_of_Output_to_Total_Assets    3586 non-null   float64\n",
      " 66  Value_of_Output_to_Gross_Block     3586 non-null   object \n",
      " 67  default                            3586 non-null   float64\n",
      "dtypes: float64(6), object(62)\n",
      "memory usage: 1.9+ MB\n"
     ]
    }
   ],
   "source": [
    "a.info()"
   ]
  },
  {
   "cell_type": "markdown",
   "metadata": {},
   "source": [
    "Here we can see most of the variables are of object data type. Reason behind it is the use of special characters in the dataset like',' comma. We shall remove the comma below."
   ]
  },
  {
   "cell_type": "code",
   "execution_count": 22,
   "metadata": {},
   "outputs": [
    {
     "data": {
      "text/plain": [
       "Index(['Co_Code', 'Co_Name', 'Networth_Next_Year', 'Equity_Paid_Up',\n",
       "       'Networth', 'Capital_Employed', 'Total_Debt', 'Gross_Block',\n",
       "       'Net_Working_Capital', 'Curr_Assets', 'Curr_Liab_and_Prov',\n",
       "       'Total_Assets_to_Liab', 'Gross_Sales', 'Net_Sales', 'Other_Income',\n",
       "       'Value_Of_Output', 'Cost_of_Prod', 'Selling_Cost', 'PBIDT', 'PBDT',\n",
       "       'PBIT', 'PBT', 'PAT', 'Adjusted_PAT', 'CP', 'Rev_earn_in_forex',\n",
       "       'Rev_exp_in_forex', 'Capital_exp_in_forex', 'Book_Value_Unit_Curr',\n",
       "       'Book_Value_Adj_Unit_Curr', 'Market_Capitalisation',\n",
       "       'CEPS_annualised_Unit_Curr', 'Cash_Flow_From_Opr', 'Cash_Flow_From_Inv',\n",
       "       'Cash_Flow_From_Fin', 'ROG_Net_Worth_perc', 'ROG_Capital_Employed_perc',\n",
       "       'ROG_Gross_Block_perc', 'ROG_Gross_Sales_perc', 'ROG_Net_Sales_perc',\n",
       "       'ROG_Cost_of_Prod_perc', 'ROG_Total_Assets_perc', 'ROG_PBIDT_perc',\n",
       "       'ROG_PBDT_perc', 'ROG_PBIT_perc', 'ROG_PBT_perc', 'ROG_PAT_perc',\n",
       "       'ROG_CP_perc', 'ROG_Rev_earn_in_forex_perc',\n",
       "       'ROG_Rev_exp_in_forex_perc', 'ROG_Market_Capitalisation_perc',\n",
       "       'Curr_Ratio_Latest', 'Fixed_Assets_Ratio_Latest',\n",
       "       'Inventory_Ratio_Latest', 'Debtors_Ratio_Latest',\n",
       "       'Total_Asset_Turnover_Ratio_Latest', 'Interest_Cover_Ratio_Latest',\n",
       "       'PBIDTM_perc_Latest', 'PBITM_perc_Latest', 'PBDTM_perc_Latest',\n",
       "       'CPM_perc_Latest', 'APATM_perc_Latest', 'Debtors_Vel_Days',\n",
       "       'Creditors_Vel_Days', 'Inventory_Vel_Days',\n",
       "       'Value_of_Output_to_Total_Assets', 'Value_of_Output_to_Gross_Block',\n",
       "       'default'],\n",
       "      dtype='object')"
      ]
     },
     "execution_count": 22,
     "metadata": {},
     "output_type": "execute_result"
    }
   ],
   "source": [
    "a.columns"
   ]
  },
  {
   "cell_type": "code",
   "execution_count": 23,
   "metadata": {},
   "outputs": [],
   "source": [
    "a1 = a.select_dtypes(include='object')\n",
    "a2 = a.select_dtypes(include='float64')"
   ]
  },
  {
   "cell_type": "code",
   "execution_count": 24,
   "metadata": {},
   "outputs": [],
   "source": [
    "for column in a1.columns:\n",
    "    a1[column] = a1[column].str.replace(',',\"\")"
   ]
  },
  {
   "cell_type": "code",
   "execution_count": 25,
   "metadata": {},
   "outputs": [],
   "source": [
    "a1_1 = a1.drop('Co_Name', axis=1)"
   ]
  },
  {
   "cell_type": "code",
   "execution_count": 26,
   "metadata": {},
   "outputs": [],
   "source": [
    "a1_1 = a1_1.astype(float)"
   ]
  },
  {
   "cell_type": "code",
   "execution_count": 27,
   "metadata": {},
   "outputs": [],
   "source": [
    "a2_2 = a1['Co_Name']"
   ]
  },
  {
   "cell_type": "code",
   "execution_count": 28,
   "metadata": {},
   "outputs": [
    {
     "data": {
      "text/plain": [
       "0           Hind.Cables\n",
       "1       Tata Tele. Mah.\n",
       "2          ABG Shipyard\n",
       "3                   GTL\n",
       "4       Bharati Defence\n",
       "             ...       \n",
       "3581          HDFC Bank\n",
       "3582            Vedanta\n",
       "3583            I O C L\n",
       "3584               NTPC\n",
       "3585      Bharti Airtel\n",
       "Name: Co_Name, Length: 3586, dtype: object"
      ]
     },
     "execution_count": 28,
     "metadata": {},
     "output_type": "execute_result"
    }
   ],
   "source": [
    "a2_2"
   ]
  },
  {
   "cell_type": "code",
   "execution_count": 29,
   "metadata": {},
   "outputs": [],
   "source": [
    "a1 = pd.concat([a1_1, a2_2], axis = 1)"
   ]
  },
  {
   "cell_type": "code",
   "execution_count": 30,
   "metadata": {},
   "outputs": [],
   "source": [
    "a = pd.concat([a1, a2], axis = 1)"
   ]
  },
  {
   "cell_type": "code",
   "execution_count": 31,
   "metadata": {},
   "outputs": [
    {
     "name": "stdout",
     "output_type": "stream",
     "text": [
      "<class 'pandas.core.frame.DataFrame'>\n",
      "Int64Index: 3586 entries, 0 to 3585\n",
      "Data columns (total 68 columns):\n",
      " #   Column                             Non-Null Count  Dtype  \n",
      "---  ------                             --------------  -----  \n",
      " 0   Equity_Paid_Up                     3586 non-null   float64\n",
      " 1   Networth                           3586 non-null   float64\n",
      " 2   Capital_Employed                   3586 non-null   float64\n",
      " 3   Total_Debt                         3586 non-null   float64\n",
      " 4   Gross_Block                        3586 non-null   float64\n",
      " 5   Net_Working_Capital                3586 non-null   float64\n",
      " 6   Curr_Assets                        3586 non-null   float64\n",
      " 7   Curr_Liab_and_Prov                 3586 non-null   float64\n",
      " 8   Total_Assets_to_Liab               3586 non-null   float64\n",
      " 9   Gross_Sales                        3586 non-null   float64\n",
      " 10  Net_Sales                          3586 non-null   float64\n",
      " 11  Other_Income                       3586 non-null   float64\n",
      " 12  Value_Of_Output                    3586 non-null   float64\n",
      " 13  Cost_of_Prod                       3586 non-null   float64\n",
      " 14  Selling_Cost                       3586 non-null   float64\n",
      " 15  PBIDT                              3586 non-null   float64\n",
      " 16  PBDT                               3586 non-null   float64\n",
      " 17  PBIT                               3586 non-null   float64\n",
      " 18  PBT                                3586 non-null   float64\n",
      " 19  PAT                                3586 non-null   float64\n",
      " 20  Adjusted_PAT                       3586 non-null   float64\n",
      " 21  CP                                 3586 non-null   float64\n",
      " 22  Rev_earn_in_forex                  3586 non-null   float64\n",
      " 23  Rev_exp_in_forex                   3586 non-null   float64\n",
      " 24  Capital_exp_in_forex               3586 non-null   float64\n",
      " 25  Book_Value_Unit_Curr               3586 non-null   float64\n",
      " 26  Book_Value_Adj_Unit_Curr           3582 non-null   float64\n",
      " 27  Market_Capitalisation              3586 non-null   float64\n",
      " 28  CEPS_annualised_Unit_Curr          3586 non-null   float64\n",
      " 29  Cash_Flow_From_Opr                 3586 non-null   float64\n",
      " 30  Cash_Flow_From_Inv                 3586 non-null   float64\n",
      " 31  Cash_Flow_From_Fin                 3586 non-null   float64\n",
      " 32  ROG_Net_Worth_perc                 3586 non-null   float64\n",
      " 33  ROG_Capital_Employed_perc          3586 non-null   float64\n",
      " 34  ROG_Gross_Block_perc               3586 non-null   float64\n",
      " 35  ROG_Gross_Sales_perc               3586 non-null   float64\n",
      " 36  ROG_Net_Sales_perc                 3586 non-null   float64\n",
      " 37  ROG_Cost_of_Prod_perc              3586 non-null   float64\n",
      " 38  ROG_Total_Assets_perc              3586 non-null   float64\n",
      " 39  ROG_PBIDT_perc                     3586 non-null   float64\n",
      " 40  ROG_PBDT_perc                      3586 non-null   float64\n",
      " 41  ROG_PBIT_perc                      3586 non-null   float64\n",
      " 42  ROG_PBT_perc                       3586 non-null   float64\n",
      " 43  ROG_PAT_perc                       3586 non-null   float64\n",
      " 44  ROG_CP_perc                        3586 non-null   float64\n",
      " 45  ROG_Rev_earn_in_forex_perc         3586 non-null   float64\n",
      " 46  ROG_Rev_exp_in_forex_perc          3586 non-null   float64\n",
      " 47  ROG_Market_Capitalisation_perc     3586 non-null   float64\n",
      " 48  Curr_Ratio_Latest                  3585 non-null   float64\n",
      " 49  Fixed_Assets_Ratio_Latest          3585 non-null   float64\n",
      " 50  Inventory_Ratio_Latest             3585 non-null   float64\n",
      " 51  Debtors_Ratio_Latest               3585 non-null   float64\n",
      " 52  Interest_Cover_Ratio_Latest        3585 non-null   float64\n",
      " 53  PBIDTM_perc_Latest                 3585 non-null   float64\n",
      " 54  PBITM_perc_Latest                  3585 non-null   float64\n",
      " 55  PBDTM_perc_Latest                  3585 non-null   float64\n",
      " 56  CPM_perc_Latest                    3585 non-null   float64\n",
      " 57  APATM_perc_Latest                  3585 non-null   float64\n",
      " 58  Debtors_Vel_Days                   3586 non-null   float64\n",
      " 59  Creditors_Vel_Days                 3586 non-null   float64\n",
      " 60  Value_of_Output_to_Gross_Block     3586 non-null   float64\n",
      " 61  Co_Name                            3586 non-null   object \n",
      " 62  Co_Code                            3586 non-null   float64\n",
      " 63  Networth_Next_Year                 3586 non-null   float64\n",
      " 64  Total_Asset_Turnover_Ratio_Latest  3585 non-null   float64\n",
      " 65  Inventory_Vel_Days                 3483 non-null   float64\n",
      " 66  Value_of_Output_to_Total_Assets    3586 non-null   float64\n",
      " 67  default                            3586 non-null   float64\n",
      "dtypes: float64(67), object(1)\n",
      "memory usage: 1.9+ MB\n"
     ]
    }
   ],
   "source": [
    "a.info()"
   ]
  },
  {
   "cell_type": "markdown",
   "metadata": {},
   "source": [
    "#### Lets check for missing values in the dataset"
   ]
  },
  {
   "cell_type": "code",
   "execution_count": 32,
   "metadata": {},
   "outputs": [
    {
     "data": {
      "text/plain": [
       "Equity_Paid_Up                         0\n",
       "Networth                               0\n",
       "Capital_Employed                       0\n",
       "Total_Debt                             0\n",
       "Gross_Block                            0\n",
       "                                    ... \n",
       "Networth_Next_Year                     0\n",
       "Total_Asset_Turnover_Ratio_Latest      1\n",
       "Inventory_Vel_Days                   103\n",
       "Value_of_Output_to_Total_Assets        0\n",
       "default                                0\n",
       "Length: 68, dtype: int64"
      ]
     },
     "execution_count": 32,
     "metadata": {},
     "output_type": "execute_result"
    }
   ],
   "source": [
    "a.isnull().sum()"
   ]
  },
  {
   "cell_type": "code",
   "execution_count": 33,
   "metadata": {},
   "outputs": [
    {
     "data": {
      "text/plain": [
       "243848"
      ]
     },
     "execution_count": 33,
     "metadata": {},
     "output_type": "execute_result"
    }
   ],
   "source": [
    "a.size"
   ]
  },
  {
   "cell_type": "code",
   "execution_count": 34,
   "metadata": {},
   "outputs": [
    {
     "data": {
      "text/plain": [
       "118"
      ]
     },
     "execution_count": 34,
     "metadata": {},
     "output_type": "execute_result"
    }
   ],
   "source": [
    "a.isnull().sum().sum()"
   ]
  },
  {
   "cell_type": "markdown",
   "metadata": {},
   "source": [
    "There are missing values in the dataset"
   ]
  },
  {
   "cell_type": "markdown",
   "metadata": {},
   "source": [
    "#### Checking the outliers and making them NaN"
   ]
  },
  {
   "cell_type": "code",
   "execution_count": 35,
   "metadata": {},
   "outputs": [
    {
     "data": {
      "text/html": [
       "<div>\n",
       "<style scoped>\n",
       "    .dataframe tbody tr th:only-of-type {\n",
       "        vertical-align: middle;\n",
       "    }\n",
       "\n",
       "    .dataframe tbody tr th {\n",
       "        vertical-align: top;\n",
       "    }\n",
       "\n",
       "    .dataframe thead th {\n",
       "        text-align: right;\n",
       "    }\n",
       "</style>\n",
       "<table border=\"1\" class=\"dataframe\">\n",
       "  <thead>\n",
       "    <tr style=\"text-align: right;\">\n",
       "      <th></th>\n",
       "      <th>Equity_Paid_Up</th>\n",
       "      <th>Networth</th>\n",
       "      <th>Capital_Employed</th>\n",
       "      <th>Total_Debt</th>\n",
       "      <th>Gross_Block</th>\n",
       "      <th>Net_Working_Capital</th>\n",
       "      <th>Curr_Assets</th>\n",
       "      <th>Curr_Liab_and_Prov</th>\n",
       "      <th>Total_Assets_to_Liab</th>\n",
       "      <th>Gross_Sales</th>\n",
       "      <th>...</th>\n",
       "      <th>Debtors_Vel_Days</th>\n",
       "      <th>Creditors_Vel_Days</th>\n",
       "      <th>Value_of_Output_to_Gross_Block</th>\n",
       "      <th>Co_Name</th>\n",
       "      <th>Co_Code</th>\n",
       "      <th>Networth_Next_Year</th>\n",
       "      <th>Total_Asset_Turnover_Ratio_Latest</th>\n",
       "      <th>Inventory_Vel_Days</th>\n",
       "      <th>Value_of_Output_to_Total_Assets</th>\n",
       "      <th>default</th>\n",
       "    </tr>\n",
       "  </thead>\n",
       "  <tbody>\n",
       "    <tr>\n",
       "      <th>0</th>\n",
       "      <td>419.36</td>\n",
       "      <td>-7027.48</td>\n",
       "      <td>-1007.24</td>\n",
       "      <td>5936.03</td>\n",
       "      <td>474.30</td>\n",
       "      <td>-1076.34</td>\n",
       "      <td>40.50</td>\n",
       "      <td>1116.85</td>\n",
       "      <td>109.60</td>\n",
       "      <td>0.00</td>\n",
       "      <td>...</td>\n",
       "      <td>0.0</td>\n",
       "      <td>0.0</td>\n",
       "      <td>0.00</td>\n",
       "      <td>Hind.Cables</td>\n",
       "      <td>16974.0</td>\n",
       "      <td>-8021.60</td>\n",
       "      <td>0.00</td>\n",
       "      <td>45.0</td>\n",
       "      <td>0.00</td>\n",
       "      <td>1.0</td>\n",
       "    </tr>\n",
       "    <tr>\n",
       "      <th>1</th>\n",
       "      <td>1954.93</td>\n",
       "      <td>-2968.08</td>\n",
       "      <td>4458.20</td>\n",
       "      <td>7410.18</td>\n",
       "      <td>9070.86</td>\n",
       "      <td>-1098.88</td>\n",
       "      <td>486.86</td>\n",
       "      <td>1585.74</td>\n",
       "      <td>6043.94</td>\n",
       "      <td>2892.73</td>\n",
       "      <td>...</td>\n",
       "      <td>29.0</td>\n",
       "      <td>101.0</td>\n",
       "      <td>0.24</td>\n",
       "      <td>Tata Tele. Mah.</td>\n",
       "      <td>21214.0</td>\n",
       "      <td>-3986.19</td>\n",
       "      <td>0.30</td>\n",
       "      <td>2.0</td>\n",
       "      <td>0.31</td>\n",
       "      <td>1.0</td>\n",
       "    </tr>\n",
       "    <tr>\n",
       "      <th>2</th>\n",
       "      <td>53.84</td>\n",
       "      <td>506.86</td>\n",
       "      <td>7714.68</td>\n",
       "      <td>6944.54</td>\n",
       "      <td>1281.54</td>\n",
       "      <td>4496.25</td>\n",
       "      <td>9097.64</td>\n",
       "      <td>4601.39</td>\n",
       "      <td>12316.07</td>\n",
       "      <td>392.13</td>\n",
       "      <td>...</td>\n",
       "      <td>97.0</td>\n",
       "      <td>558.0</td>\n",
       "      <td>-0.26</td>\n",
       "      <td>ABG Shipyard</td>\n",
       "      <td>14852.0</td>\n",
       "      <td>-3192.58</td>\n",
       "      <td>0.00</td>\n",
       "      <td>0.0</td>\n",
       "      <td>-0.03</td>\n",
       "      <td>1.0</td>\n",
       "    </tr>\n",
       "    <tr>\n",
       "      <th>3</th>\n",
       "      <td>157.30</td>\n",
       "      <td>-623.49</td>\n",
       "      <td>2353.88</td>\n",
       "      <td>2326.05</td>\n",
       "      <td>1033.69</td>\n",
       "      <td>-2612.42</td>\n",
       "      <td>1034.12</td>\n",
       "      <td>3646.54</td>\n",
       "      <td>6000.42</td>\n",
       "      <td>1354.39</td>\n",
       "      <td>...</td>\n",
       "      <td>93.0</td>\n",
       "      <td>63.0</td>\n",
       "      <td>1.90</td>\n",
       "      <td>GTL</td>\n",
       "      <td>2439.0</td>\n",
       "      <td>-3054.51</td>\n",
       "      <td>0.00</td>\n",
       "      <td>2.0</td>\n",
       "      <td>0.24</td>\n",
       "      <td>1.0</td>\n",
       "    </tr>\n",
       "    <tr>\n",
       "      <th>4</th>\n",
       "      <td>50.30</td>\n",
       "      <td>-1070.83</td>\n",
       "      <td>4675.33</td>\n",
       "      <td>5740.90</td>\n",
       "      <td>1084.20</td>\n",
       "      <td>1836.23</td>\n",
       "      <td>4685.81</td>\n",
       "      <td>2849.58</td>\n",
       "      <td>7524.91</td>\n",
       "      <td>38.72</td>\n",
       "      <td>...</td>\n",
       "      <td>3887.0</td>\n",
       "      <td>346.0</td>\n",
       "      <td>0.05</td>\n",
       "      <td>Bharati Defence</td>\n",
       "      <td>23505.0</td>\n",
       "      <td>-2967.36</td>\n",
       "      <td>0.01</td>\n",
       "      <td>0.0</td>\n",
       "      <td>0.01</td>\n",
       "      <td>1.0</td>\n",
       "    </tr>\n",
       "    <tr>\n",
       "      <th>...</th>\n",
       "      <td>...</td>\n",
       "      <td>...</td>\n",
       "      <td>...</td>\n",
       "      <td>...</td>\n",
       "      <td>...</td>\n",
       "      <td>...</td>\n",
       "      <td>...</td>\n",
       "      <td>...</td>\n",
       "      <td>...</td>\n",
       "      <td>...</td>\n",
       "      <td>...</td>\n",
       "      <td>...</td>\n",
       "      <td>...</td>\n",
       "      <td>...</td>\n",
       "      <td>...</td>\n",
       "      <td>...</td>\n",
       "      <td>...</td>\n",
       "      <td>...</td>\n",
       "      <td>...</td>\n",
       "      <td>...</td>\n",
       "      <td>...</td>\n",
       "    </tr>\n",
       "    <tr>\n",
       "      <th>3581</th>\n",
       "      <td>501.30</td>\n",
       "      <td>62009.42</td>\n",
       "      <td>590576.00</td>\n",
       "      <td>496009.19</td>\n",
       "      <td>8463.30</td>\n",
       "      <td>0.00</td>\n",
       "      <td>444633.50</td>\n",
       "      <td>32557.39</td>\n",
       "      <td>94566.81</td>\n",
       "      <td>48469.90</td>\n",
       "      <td>...</td>\n",
       "      <td>0.0</td>\n",
       "      <td>0.0</td>\n",
       "      <td>7.76</td>\n",
       "      <td>HDFC Bank</td>\n",
       "      <td>4987.0</td>\n",
       "      <td>72677.77</td>\n",
       "      <td>0.00</td>\n",
       "      <td>NaN</td>\n",
       "      <td>0.60</td>\n",
       "      <td>0.0</td>\n",
       "    </tr>\n",
       "    <tr>\n",
       "      <th>3582</th>\n",
       "      <td>296.50</td>\n",
       "      <td>34057.87</td>\n",
       "      <td>71906.06</td>\n",
       "      <td>37643.79</td>\n",
       "      <td>29848.44</td>\n",
       "      <td>2503.86</td>\n",
       "      <td>11554.45</td>\n",
       "      <td>9050.59</td>\n",
       "      <td>80956.65</td>\n",
       "      <td>34312.88</td>\n",
       "      <td>...</td>\n",
       "      <td>13.0</td>\n",
       "      <td>53.0</td>\n",
       "      <td>1.00</td>\n",
       "      <td>Vedanta</td>\n",
       "      <td>502.0</td>\n",
       "      <td>79162.19</td>\n",
       "      <td>0.30</td>\n",
       "      <td>77.0</td>\n",
       "      <td>0.29</td>\n",
       "      <td>0.0</td>\n",
       "    </tr>\n",
       "    <tr>\n",
       "      <th>3583</th>\n",
       "      <td>2427.95</td>\n",
       "      <td>67969.97</td>\n",
       "      <td>140686.75</td>\n",
       "      <td>55245.01</td>\n",
       "      <td>121643.45</td>\n",
       "      <td>6376.84</td>\n",
       "      <td>89609.82</td>\n",
       "      <td>83232.98</td>\n",
       "      <td>223919.73</td>\n",
       "      <td>474182.94</td>\n",
       "      <td>...</td>\n",
       "      <td>7.0</td>\n",
       "      <td>30.0</td>\n",
       "      <td>3.24</td>\n",
       "      <td>I O C L</td>\n",
       "      <td>12002.0</td>\n",
       "      <td>88134.31</td>\n",
       "      <td>2.62</td>\n",
       "      <td>48.0</td>\n",
       "      <td>1.42</td>\n",
       "      <td>0.0</td>\n",
       "    </tr>\n",
       "    <tr>\n",
       "      <th>3584</th>\n",
       "      <td>8245.46</td>\n",
       "      <td>81657.35</td>\n",
       "      <td>173099.14</td>\n",
       "      <td>85995.34</td>\n",
       "      <td>128477.59</td>\n",
       "      <td>11449.79</td>\n",
       "      <td>42353.59</td>\n",
       "      <td>30903.80</td>\n",
       "      <td>204002.94</td>\n",
       "      <td>73906.58</td>\n",
       "      <td>...</td>\n",
       "      <td>32.0</td>\n",
       "      <td>69.0</td>\n",
       "      <td>0.68</td>\n",
       "      <td>NTPC</td>\n",
       "      <td>12001.0</td>\n",
       "      <td>91293.70</td>\n",
       "      <td>0.39</td>\n",
       "      <td>42.0</td>\n",
       "      <td>0.36</td>\n",
       "      <td>0.0</td>\n",
       "    </tr>\n",
       "    <tr>\n",
       "      <th>3585</th>\n",
       "      <td>1998.70</td>\n",
       "      <td>78270.80</td>\n",
       "      <td>104241.00</td>\n",
       "      <td>21569.70</td>\n",
       "      <td>100084.90</td>\n",
       "      <td>-12145.30</td>\n",
       "      <td>11947.10</td>\n",
       "      <td>24092.40</td>\n",
       "      <td>128333.40</td>\n",
       "      <td>55496.40</td>\n",
       "      <td>...</td>\n",
       "      <td>18.0</td>\n",
       "      <td>74.0</td>\n",
       "      <td>0.49</td>\n",
       "      <td>Bharti Airtel</td>\n",
       "      <td>15542.0</td>\n",
       "      <td>111729.10</td>\n",
       "      <td>0.38</td>\n",
       "      <td>0.0</td>\n",
       "      <td>0.42</td>\n",
       "      <td>0.0</td>\n",
       "    </tr>\n",
       "  </tbody>\n",
       "</table>\n",
       "<p>3586 rows × 68 columns</p>\n",
       "</div>"
      ],
      "text/plain": [
       "      Equity_Paid_Up  Networth  Capital_Employed  Total_Debt  Gross_Block  \\\n",
       "0             419.36  -7027.48          -1007.24     5936.03       474.30   \n",
       "1            1954.93  -2968.08           4458.20     7410.18      9070.86   \n",
       "2              53.84    506.86           7714.68     6944.54      1281.54   \n",
       "3             157.30   -623.49           2353.88     2326.05      1033.69   \n",
       "4              50.30  -1070.83           4675.33     5740.90      1084.20   \n",
       "...              ...       ...               ...         ...          ...   \n",
       "3581          501.30  62009.42         590576.00   496009.19      8463.30   \n",
       "3582          296.50  34057.87          71906.06    37643.79     29848.44   \n",
       "3583         2427.95  67969.97         140686.75    55245.01    121643.45   \n",
       "3584         8245.46  81657.35         173099.14    85995.34    128477.59   \n",
       "3585         1998.70  78270.80         104241.00    21569.70    100084.90   \n",
       "\n",
       "      Net_Working_Capital  Curr_Assets  Curr_Liab_and_Prov  \\\n",
       "0                -1076.34        40.50             1116.85   \n",
       "1                -1098.88       486.86             1585.74   \n",
       "2                 4496.25      9097.64             4601.39   \n",
       "3                -2612.42      1034.12             3646.54   \n",
       "4                 1836.23      4685.81             2849.58   \n",
       "...                   ...          ...                 ...   \n",
       "3581                 0.00    444633.50            32557.39   \n",
       "3582              2503.86     11554.45             9050.59   \n",
       "3583              6376.84     89609.82            83232.98   \n",
       "3584             11449.79     42353.59            30903.80   \n",
       "3585            -12145.30     11947.10            24092.40   \n",
       "\n",
       "      Total_Assets_to_Liab  Gross_Sales  ...  Debtors_Vel_Days  \\\n",
       "0                   109.60         0.00  ...               0.0   \n",
       "1                  6043.94      2892.73  ...              29.0   \n",
       "2                 12316.07       392.13  ...              97.0   \n",
       "3                  6000.42      1354.39  ...              93.0   \n",
       "4                  7524.91        38.72  ...            3887.0   \n",
       "...                    ...          ...  ...               ...   \n",
       "3581              94566.81     48469.90  ...               0.0   \n",
       "3582              80956.65     34312.88  ...              13.0   \n",
       "3583             223919.73    474182.94  ...               7.0   \n",
       "3584             204002.94     73906.58  ...              32.0   \n",
       "3585             128333.40     55496.40  ...              18.0   \n",
       "\n",
       "      Creditors_Vel_Days  Value_of_Output_to_Gross_Block          Co_Name  \\\n",
       "0                    0.0                            0.00      Hind.Cables   \n",
       "1                  101.0                            0.24  Tata Tele. Mah.   \n",
       "2                  558.0                           -0.26     ABG Shipyard   \n",
       "3                   63.0                            1.90              GTL   \n",
       "4                  346.0                            0.05  Bharati Defence   \n",
       "...                  ...                             ...              ...   \n",
       "3581                 0.0                            7.76        HDFC Bank   \n",
       "3582                53.0                            1.00          Vedanta   \n",
       "3583                30.0                            3.24          I O C L   \n",
       "3584                69.0                            0.68             NTPC   \n",
       "3585                74.0                            0.49    Bharti Airtel   \n",
       "\n",
       "      Co_Code  Networth_Next_Year  Total_Asset_Turnover_Ratio_Latest  \\\n",
       "0     16974.0            -8021.60                               0.00   \n",
       "1     21214.0            -3986.19                               0.30   \n",
       "2     14852.0            -3192.58                               0.00   \n",
       "3      2439.0            -3054.51                               0.00   \n",
       "4     23505.0            -2967.36                               0.01   \n",
       "...       ...                 ...                                ...   \n",
       "3581   4987.0            72677.77                               0.00   \n",
       "3582    502.0            79162.19                               0.30   \n",
       "3583  12002.0            88134.31                               2.62   \n",
       "3584  12001.0            91293.70                               0.39   \n",
       "3585  15542.0           111729.10                               0.38   \n",
       "\n",
       "      Inventory_Vel_Days  Value_of_Output_to_Total_Assets  default  \n",
       "0                   45.0                             0.00      1.0  \n",
       "1                    2.0                             0.31      1.0  \n",
       "2                    0.0                            -0.03      1.0  \n",
       "3                    2.0                             0.24      1.0  \n",
       "4                    0.0                             0.01      1.0  \n",
       "...                  ...                              ...      ...  \n",
       "3581                 NaN                             0.60      0.0  \n",
       "3582                77.0                             0.29      0.0  \n",
       "3583                48.0                             1.42      0.0  \n",
       "3584                42.0                             0.36      0.0  \n",
       "3585                 0.0                             0.42      0.0  \n",
       "\n",
       "[3586 rows x 68 columns]"
      ]
     },
     "execution_count": 35,
     "metadata": {},
     "output_type": "execute_result"
    }
   ],
   "source": [
    "a"
   ]
  },
  {
   "cell_type": "code",
   "execution_count": 36,
   "metadata": {},
   "outputs": [],
   "source": [
    "#Here we are removing column default for checking the outliers\n",
    "a_X = a.drop('default', axis = 1)\n",
    "a_Y = a['default']"
   ]
  },
  {
   "cell_type": "code",
   "execution_count": 37,
   "metadata": {},
   "outputs": [
    {
     "name": "stdout",
     "output_type": "stream",
     "text": [
      "<class 'pandas.core.frame.DataFrame'>\n",
      "Int64Index: 3586 entries, 0 to 3585\n",
      "Data columns (total 67 columns):\n",
      " #   Column                             Non-Null Count  Dtype  \n",
      "---  ------                             --------------  -----  \n",
      " 0   Equity_Paid_Up                     3586 non-null   float64\n",
      " 1   Networth                           3586 non-null   float64\n",
      " 2   Capital_Employed                   3586 non-null   float64\n",
      " 3   Total_Debt                         3586 non-null   float64\n",
      " 4   Gross_Block                        3586 non-null   float64\n",
      " 5   Net_Working_Capital                3586 non-null   float64\n",
      " 6   Curr_Assets                        3586 non-null   float64\n",
      " 7   Curr_Liab_and_Prov                 3586 non-null   float64\n",
      " 8   Total_Assets_to_Liab               3586 non-null   float64\n",
      " 9   Gross_Sales                        3586 non-null   float64\n",
      " 10  Net_Sales                          3586 non-null   float64\n",
      " 11  Other_Income                       3586 non-null   float64\n",
      " 12  Value_Of_Output                    3586 non-null   float64\n",
      " 13  Cost_of_Prod                       3586 non-null   float64\n",
      " 14  Selling_Cost                       3586 non-null   float64\n",
      " 15  PBIDT                              3586 non-null   float64\n",
      " 16  PBDT                               3586 non-null   float64\n",
      " 17  PBIT                               3586 non-null   float64\n",
      " 18  PBT                                3586 non-null   float64\n",
      " 19  PAT                                3586 non-null   float64\n",
      " 20  Adjusted_PAT                       3586 non-null   float64\n",
      " 21  CP                                 3586 non-null   float64\n",
      " 22  Rev_earn_in_forex                  3586 non-null   float64\n",
      " 23  Rev_exp_in_forex                   3586 non-null   float64\n",
      " 24  Capital_exp_in_forex               3586 non-null   float64\n",
      " 25  Book_Value_Unit_Curr               3586 non-null   float64\n",
      " 26  Book_Value_Adj_Unit_Curr           3582 non-null   float64\n",
      " 27  Market_Capitalisation              3586 non-null   float64\n",
      " 28  CEPS_annualised_Unit_Curr          3586 non-null   float64\n",
      " 29  Cash_Flow_From_Opr                 3586 non-null   float64\n",
      " 30  Cash_Flow_From_Inv                 3586 non-null   float64\n",
      " 31  Cash_Flow_From_Fin                 3586 non-null   float64\n",
      " 32  ROG_Net_Worth_perc                 3586 non-null   float64\n",
      " 33  ROG_Capital_Employed_perc          3586 non-null   float64\n",
      " 34  ROG_Gross_Block_perc               3586 non-null   float64\n",
      " 35  ROG_Gross_Sales_perc               3586 non-null   float64\n",
      " 36  ROG_Net_Sales_perc                 3586 non-null   float64\n",
      " 37  ROG_Cost_of_Prod_perc              3586 non-null   float64\n",
      " 38  ROG_Total_Assets_perc              3586 non-null   float64\n",
      " 39  ROG_PBIDT_perc                     3586 non-null   float64\n",
      " 40  ROG_PBDT_perc                      3586 non-null   float64\n",
      " 41  ROG_PBIT_perc                      3586 non-null   float64\n",
      " 42  ROG_PBT_perc                       3586 non-null   float64\n",
      " 43  ROG_PAT_perc                       3586 non-null   float64\n",
      " 44  ROG_CP_perc                        3586 non-null   float64\n",
      " 45  ROG_Rev_earn_in_forex_perc         3586 non-null   float64\n",
      " 46  ROG_Rev_exp_in_forex_perc          3586 non-null   float64\n",
      " 47  ROG_Market_Capitalisation_perc     3586 non-null   float64\n",
      " 48  Curr_Ratio_Latest                  3585 non-null   float64\n",
      " 49  Fixed_Assets_Ratio_Latest          3585 non-null   float64\n",
      " 50  Inventory_Ratio_Latest             3585 non-null   float64\n",
      " 51  Debtors_Ratio_Latest               3585 non-null   float64\n",
      " 52  Interest_Cover_Ratio_Latest        3585 non-null   float64\n",
      " 53  PBIDTM_perc_Latest                 3585 non-null   float64\n",
      " 54  PBITM_perc_Latest                  3585 non-null   float64\n",
      " 55  PBDTM_perc_Latest                  3585 non-null   float64\n",
      " 56  CPM_perc_Latest                    3585 non-null   float64\n",
      " 57  APATM_perc_Latest                  3585 non-null   float64\n",
      " 58  Debtors_Vel_Days                   3586 non-null   float64\n",
      " 59  Creditors_Vel_Days                 3586 non-null   float64\n",
      " 60  Value_of_Output_to_Gross_Block     3586 non-null   float64\n",
      " 61  Co_Name                            3586 non-null   object \n",
      " 62  Co_Code                            3586 non-null   float64\n",
      " 63  Networth_Next_Year                 3586 non-null   float64\n",
      " 64  Total_Asset_Turnover_Ratio_Latest  3585 non-null   float64\n",
      " 65  Inventory_Vel_Days                 3483 non-null   float64\n",
      " 66  Value_of_Output_to_Total_Assets    3586 non-null   float64\n",
      "dtypes: float64(66), object(1)\n",
      "memory usage: 1.9+ MB\n"
     ]
    }
   ],
   "source": [
    "a_X.info()"
   ]
  },
  {
   "cell_type": "markdown",
   "metadata": {},
   "source": [
    "#### Let's check the number of outliers per column"
   ]
  },
  {
   "cell_type": "code",
   "execution_count": 38,
   "metadata": {},
   "outputs": [],
   "source": [
    "Q1 = a_X.quantile(0.25)\n",
    "Q3 = a_X.quantile(0.75)\n",
    "IQR = Q3 - Q1\n",
    "UL = Q3 + 1.5*IQR\n",
    "LL = Q1 - 1.5*IQR"
   ]
  },
  {
   "cell_type": "code",
   "execution_count": 39,
   "metadata": {},
   "outputs": [
    {
     "data": {
      "text/plain": [
       "APATM_perc_Latest                  933\n",
       "Adjusted_PAT                       954\n",
       "Book_Value_Adj_Unit_Curr           486\n",
       "Book_Value_Unit_Curr               485\n",
       "CEPS_annualised_Unit_Curr          602\n",
       "                                  ... \n",
       "Total_Assets_to_Liab               574\n",
       "Total_Debt                         583\n",
       "Value_Of_Output                    559\n",
       "Value_of_Output_to_Gross_Block     481\n",
       "Value_of_Output_to_Total_Assets    150\n",
       "Length: 67, dtype: int64"
      ]
     },
     "execution_count": 39,
     "metadata": {},
     "output_type": "execute_result"
    }
   ],
   "source": [
    "((a_X > UL) | (a_X < LL)).sum()"
   ]
  },
  {
   "cell_type": "code",
   "execution_count": 40,
   "metadata": {},
   "outputs": [],
   "source": [
    "a_X[((a_X > UL) | (a_X < LL))]= np.nan\n",
    "#Here we are putting NaN value in the outliers. Instead of capping with ceiling and bottom value. By doing that we may degrade the quality of data"
   ]
  },
  {
   "cell_type": "code",
   "execution_count": 41,
   "metadata": {},
   "outputs": [
    {
     "data": {
      "text/plain": [
       "Equity_Paid_Up                       448\n",
       "Networth                             650\n",
       "Capital_Employed                     596\n",
       "Total_Debt                           583\n",
       "Gross_Block                          540\n",
       "                                    ... \n",
       "Co_Code                              291\n",
       "Networth_Next_Year                   676\n",
       "Total_Asset_Turnover_Ratio_Latest    202\n",
       "Inventory_Vel_Days                   365\n",
       "Value_of_Output_to_Total_Assets      150\n",
       "Length: 67, dtype: int64"
      ]
     },
     "execution_count": 41,
     "metadata": {},
     "output_type": "execute_result"
    }
   ],
   "source": [
    "a_X.isnull().sum()"
   ]
  },
  {
   "cell_type": "code",
   "execution_count": 42,
   "metadata": {},
   "outputs": [
    {
     "name": "stdout",
     "output_type": "stream",
     "text": [
      "<class 'pandas.core.frame.DataFrame'>\n",
      "Int64Index: 3586 entries, 0 to 3585\n",
      "Data columns (total 67 columns):\n",
      " #   Column                             Non-Null Count  Dtype  \n",
      "---  ------                             --------------  -----  \n",
      " 0   Equity_Paid_Up                     3138 non-null   float64\n",
      " 1   Networth                           2936 non-null   float64\n",
      " 2   Capital_Employed                   2990 non-null   float64\n",
      " 3   Total_Debt                         3003 non-null   float64\n",
      " 4   Gross_Block                        3046 non-null   float64\n",
      " 5   Net_Working_Capital                2961 non-null   float64\n",
      " 6   Curr_Assets                        3009 non-null   float64\n",
      " 7   Curr_Liab_and_Prov                 3005 non-null   float64\n",
      " 8   Total_Assets_to_Liab               3012 non-null   float64\n",
      " 9   Gross_Sales                        3032 non-null   float64\n",
      " 10  Net_Sales                          3030 non-null   float64\n",
      " 11  Other_Income                       2983 non-null   float64\n",
      " 12  Value_Of_Output                    3027 non-null   float64\n",
      " 13  Cost_of_Prod                       3026 non-null   float64\n",
      " 14  Selling_Cost                       2981 non-null   float64\n",
      " 15  PBIDT                              2915 non-null   float64\n",
      " 16  PBDT                               2771 non-null   float64\n",
      " 17  PBIT                               2866 non-null   float64\n",
      " 18  PBT                                2645 non-null   float64\n",
      " 19  PAT                                2627 non-null   float64\n",
      " 20  Adjusted_PAT                       2632 non-null   float64\n",
      " 21  CP                                 2770 non-null   float64\n",
      " 22  Rev_earn_in_forex                  2848 non-null   float64\n",
      " 23  Rev_exp_in_forex                   2893 non-null   float64\n",
      " 24  Capital_exp_in_forex               2892 non-null   float64\n",
      " 25  Book_Value_Unit_Curr               3101 non-null   float64\n",
      " 26  Book_Value_Adj_Unit_Curr           3096 non-null   float64\n",
      " 27  Market_Capitalisation              2947 non-null   float64\n",
      " 28  CEPS_annualised_Unit_Curr          2984 non-null   float64\n",
      " 29  Cash_Flow_From_Opr                 2785 non-null   float64\n",
      " 30  Cash_Flow_From_Inv                 2710 non-null   float64\n",
      " 31  Cash_Flow_From_Fin                 2581 non-null   float64\n",
      " 32  ROG_Net_Worth_perc                 2839 non-null   float64\n",
      " 33  ROG_Capital_Employed_perc          3014 non-null   float64\n",
      " 34  ROG_Gross_Block_perc               2756 non-null   float64\n",
      " 35  ROG_Gross_Sales_perc               2915 non-null   float64\n",
      " 36  ROG_Net_Sales_perc                 2919 non-null   float64\n",
      " 37  ROG_Cost_of_Prod_perc              2911 non-null   float64\n",
      " 38  ROG_Total_Assets_perc              3103 non-null   float64\n",
      " 39  ROG_PBIDT_perc                     2975 non-null   float64\n",
      " 40  ROG_PBDT_perc                      2958 non-null   float64\n",
      " 41  ROG_PBIT_perc                      2970 non-null   float64\n",
      " 42  ROG_PBT_perc                       2975 non-null   float64\n",
      " 43  ROG_PAT_perc                       2988 non-null   float64\n",
      " 44  ROG_CP_perc                        2949 non-null   float64\n",
      " 45  ROG_Rev_earn_in_forex_perc         2269 non-null   float64\n",
      " 46  ROG_Rev_exp_in_forex_perc          1971 non-null   float64\n",
      " 47  ROG_Market_Capitalisation_perc     3089 non-null   float64\n",
      " 48  Curr_Ratio_Latest                  3020 non-null   float64\n",
      " 49  Fixed_Assets_Ratio_Latest          3090 non-null   float64\n",
      " 50  Inventory_Ratio_Latest             3210 non-null   float64\n",
      " 51  Debtors_Ratio_Latest               3214 non-null   float64\n",
      " 52  Interest_Cover_Ratio_Latest        2860 non-null   float64\n",
      " 53  PBIDTM_perc_Latest                 2990 non-null   float64\n",
      " 54  PBITM_perc_Latest                  2868 non-null   float64\n",
      " 55  PBDTM_perc_Latest                  2890 non-null   float64\n",
      " 56  CPM_perc_Latest                    2865 non-null   float64\n",
      " 57  APATM_perc_Latest                  2652 non-null   float64\n",
      " 58  Debtors_Vel_Days                   3188 non-null   float64\n",
      " 59  Creditors_Vel_Days                 3195 non-null   float64\n",
      " 60  Value_of_Output_to_Gross_Block     3105 non-null   float64\n",
      " 61  Co_Name                            3586 non-null   object \n",
      " 62  Co_Code                            3295 non-null   float64\n",
      " 63  Networth_Next_Year                 2910 non-null   float64\n",
      " 64  Total_Asset_Turnover_Ratio_Latest  3384 non-null   float64\n",
      " 65  Inventory_Vel_Days                 3221 non-null   float64\n",
      " 66  Value_of_Output_to_Total_Assets    3436 non-null   float64\n",
      "dtypes: float64(66), object(1)\n",
      "memory usage: 1.9+ MB\n"
     ]
    }
   ],
   "source": [
    "a_X.info()"
   ]
  },
  {
   "cell_type": "code",
   "execution_count": 43,
   "metadata": {},
   "outputs": [
    {
     "data": {
      "text/plain": [
       "42440"
      ]
     },
     "execution_count": 43,
     "metadata": {},
     "output_type": "execute_result"
    }
   ],
   "source": [
    "a_X.isnull().sum().sum()"
   ]
  },
  {
   "cell_type": "code",
   "execution_count": 44,
   "metadata": {},
   "outputs": [
    {
     "data": {
      "text/plain": [
       "(3586, 67)"
      ]
     },
     "execution_count": 44,
     "metadata": {},
     "output_type": "execute_result"
    }
   ],
   "source": [
    "a_X.shape"
   ]
  },
  {
   "cell_type": "code",
   "execution_count": 45,
   "metadata": {},
   "outputs": [],
   "source": [
    "#We need to drop this column because it is directly corellated with the variable 'default' because we have derived 'default' from 'Networth_Next_Year' only\n",
    "#Co_Code Company code is useless\n",
    "a_X = a_X.drop(['Networth_Next_Year','Co_Code', 'Co_Name'], axis = 1)"
   ]
  },
  {
   "cell_type": "code",
   "execution_count": 46,
   "metadata": {},
   "outputs": [
    {
     "data": {
      "text/plain": [
       "(3586, 64)"
      ]
     },
     "execution_count": 46,
     "metadata": {},
     "output_type": "execute_result"
    }
   ],
   "source": [
    "a_X.shape"
   ]
  },
  {
   "cell_type": "code",
   "execution_count": 47,
   "metadata": {},
   "outputs": [],
   "source": [
    "a_sub1 = pd.concat([a_X, a_Y], axis =1 )"
   ]
  },
  {
   "cell_type": "markdown",
   "metadata": {},
   "source": [
    "#### Let's visually inspect the missing values in our data"
   ]
  },
  {
   "cell_type": "code",
   "execution_count": 48,
   "metadata": {},
   "outputs": [
    {
     "data": {
      "image/png": "[encoded data removed]",
      "text/plain": [
       "<Figure size 864x576 with 1 Axes>"
      ]
     },
     "metadata": {
      "needs_background": "light"
     },
     "output_type": "display_data"
    }
   ],
   "source": [
    "plt.figure(figsize = (12,8))\n",
    "sns.heatmap(a_sub1.isnull(), cbar = False, cmap = 'coolwarm', yticklabels = False)\n",
    "plt.show()"
   ]
  },
  {
   "cell_type": "markdown",
   "metadata": {},
   "source": [
    "#### We should inspect total missing values by each row."
   ]
  },
  {
   "cell_type": "code",
   "execution_count": 49,
   "metadata": {},
   "outputs": [
    {
     "data": {
      "text/plain": [
       "0       19\n",
       "1       34\n",
       "2       43\n",
       "3       36\n",
       "4       35\n",
       "        ..\n",
       "3581    30\n",
       "3582    36\n",
       "3583    34\n",
       "3584    30\n",
       "3585    36\n",
       "Length: 3586, dtype: int64"
      ]
     },
     "execution_count": 49,
     "metadata": {},
     "output_type": "execute_result"
    }
   ],
   "source": [
    "a_sub1.isnull().sum(axis = 1)"
   ]
  },
  {
   "cell_type": "code",
   "execution_count": 50,
   "metadata": {},
   "outputs": [],
   "source": [
    "a_sub1_temp = a_sub1[a_sub1.isnull().sum(axis = 1) <= 5]"
   ]
  },
  {
   "cell_type": "code",
   "execution_count": 51,
   "metadata": {},
   "outputs": [
    {
     "data": {
      "text/plain": [
       "(1203, 65)"
      ]
     },
     "execution_count": 51,
     "metadata": {},
     "output_type": "execute_result"
    }
   ],
   "source": [
    "a_sub1_temp.shape"
   ]
  },
  {
   "cell_type": "code",
   "execution_count": 52,
   "metadata": {},
   "outputs": [
    {
     "data": {
      "text/plain": [
       "0.0    1085\n",
       "1.0     118\n",
       "Name: default, dtype: int64"
      ]
     },
     "execution_count": 52,
     "metadata": {},
     "output_type": "execute_result"
    }
   ],
   "source": [
    "a_sub1_temp['default'].value_counts()"
   ]
  },
  {
   "cell_type": "code",
   "execution_count": 53,
   "metadata": {},
   "outputs": [
    {
     "data": {
      "text/plain": [
       "0.30412371134020616"
      ]
     },
     "execution_count": 53,
     "metadata": {},
     "output_type": "execute_result"
    }
   ],
   "source": [
    "118/388"
   ]
  },
  {
   "cell_type": "markdown",
   "metadata": {},
   "source": [
    "If we consider availability of features for deciding the observations to be considered, we will end up losing around 70% of the actual defaulters."
   ]
  },
  {
   "cell_type": "code",
   "execution_count": 54,
   "metadata": {},
   "outputs": [
    {
     "data": {
      "text/plain": [
       "0.0    3198\n",
       "1.0     388\n",
       "Name: default, dtype: int64"
      ]
     },
     "execution_count": 54,
     "metadata": {},
     "output_type": "execute_result"
    }
   ],
   "source": [
    "a_sub1['default'].value_counts()"
   ]
  },
  {
   "cell_type": "code",
   "execution_count": 55,
   "metadata": {},
   "outputs": [
    {
     "data": {
      "text/plain": [
       "ROG_Rev_exp_in_forex_perc            0.450363\n",
       "ROG_Rev_earn_in_forex_perc           0.367262\n",
       "Cash_Flow_From_Fin                   0.280257\n",
       "PAT                                  0.267429\n",
       "Adjusted_PAT                         0.266035\n",
       "                                       ...   \n",
       "Debtors_Ratio_Latest                 0.103737\n",
       "Inventory_Vel_Days                   0.101785\n",
       "Total_Asset_Turnover_Ratio_Latest    0.056330\n",
       "Value_of_Output_to_Total_Assets      0.041829\n",
       "default                              0.000000\n",
       "Length: 65, dtype: float64"
      ]
     },
     "execution_count": 55,
     "metadata": {},
     "output_type": "execute_result"
    }
   ],
   "source": [
    "a_sub1.isnull().sum().sort_values(ascending = False)/a_sub1.index.size"
   ]
  },
  {
   "cell_type": "code",
   "execution_count": 56,
   "metadata": {
    "scrolled": true
   },
   "outputs": [],
   "source": [
    "t = a_sub1.isnull().sum().sort_values(ascending = False)/a_sub1.index.size"
   ]
  },
  {
   "cell_type": "code",
   "execution_count": 57,
   "metadata": {
    "scrolled": true
   },
   "outputs": [
    {
     "name": "stdout",
     "output_type": "stream",
     "text": [
      "ROG_Rev_exp_in_forex_perc            0.450363\n",
      "ROG_Rev_earn_in_forex_perc           0.367262\n",
      "Cash_Flow_From_Fin                   0.280257\n",
      "PAT                                  0.267429\n",
      "Adjusted_PAT                         0.266035\n",
      "                                       ...   \n",
      "Debtors_Ratio_Latest                 0.103737\n",
      "Inventory_Vel_Days                   0.101785\n",
      "Total_Asset_Turnover_Ratio_Latest    0.056330\n",
      "Value_of_Output_to_Total_Assets      0.041829\n",
      "default                              0.000000\n",
      "Length: 65, dtype: float64\n"
     ]
    }
   ],
   "source": [
    "print(t)"
   ]
  },
  {
   "cell_type": "code",
   "execution_count": 58,
   "metadata": {},
   "outputs": [
    {
     "data": {
      "text/plain": [
       "ROG_Rev_exp_in_forex_perc      0.450363\n",
       "ROG_Rev_earn_in_forex_perc     0.367262\n",
       "Cash_Flow_From_Fin             0.280257\n",
       "PAT                            0.267429\n",
       "Adjusted_PAT                   0.266035\n",
       "PBT                            0.262409\n",
       "APATM_perc_Latest              0.260457\n",
       "Cash_Flow_From_Inv             0.244283\n",
       "ROG_Gross_Block_perc           0.231456\n",
       "CP                             0.227552\n",
       "PBDT                           0.227273\n",
       "Cash_Flow_From_Opr             0.223369\n",
       "ROG_Net_Worth_perc             0.208310\n",
       "Rev_earn_in_forex              0.205800\n",
       "Interest_Cover_Ratio_Latest    0.202454\n",
       "CPM_perc_Latest                0.201060\n",
       "PBIT                           0.200781\n",
       "PBITM_perc_Latest              0.200223\n",
       "PBDTM_perc_Latest              0.194088\n",
       "Capital_exp_in_forex           0.193530\n",
       "Rev_exp_in_forex               0.193252\n",
       "ROG_Cost_of_Prod_perc          0.188232\n",
       "ROG_Gross_Sales_perc           0.187117\n",
       "PBIDT                          0.187117\n",
       "ROG_Net_Sales_perc             0.186001\n",
       "Networth                       0.181260\n",
       "Market_Capitalisation          0.178193\n",
       "ROG_CP_perc                    0.177635\n",
       "ROG_PBDT_perc                  0.175125\n",
       "Net_Working_Capital            0.174289\n",
       "dtype: float64"
      ]
     },
     "execution_count": 58,
     "metadata": {},
     "output_type": "execute_result"
    }
   ],
   "source": [
    "t.head(30)"
   ]
  },
  {
   "cell_type": "markdown",
   "metadata": {},
   "source": [
    "#### Dropping columns with more than 25% missing values "
   ]
  },
  {
   "cell_type": "code",
   "execution_count": 59,
   "metadata": {},
   "outputs": [],
   "source": [
    "a_sub2 = a_sub1.drop(['ROG_Rev_exp_in_forex_perc', 'ROG_Rev_earn_in_forex_perc', 'Cash_Flow_From_Fin', 'PAT', 'Adjusted_PAT', 'PBT', 'APATM_perc_Latest'],axis = 1)"
   ]
  },
  {
   "cell_type": "code",
   "execution_count": 60,
   "metadata": {},
   "outputs": [
    {
     "data": {
      "text/plain": [
       "(3586, 58)"
      ]
     },
     "execution_count": 60,
     "metadata": {},
     "output_type": "execute_result"
    }
   ],
   "source": [
    "a_sub2.shape"
   ]
  },
  {
   "cell_type": "markdown",
   "metadata": {},
   "source": [
    "#### Segregate the predictors and response "
   ]
  },
  {
   "cell_type": "code",
   "execution_count": 61,
   "metadata": {},
   "outputs": [],
   "source": [
    "predictors = a_sub2.drop('default', axis = 1)\n",
    "response = a_sub2['default']"
   ]
  },
  {
   "cell_type": "markdown",
   "metadata": {},
   "source": [
    "#### Scale the predictors  "
   ]
  },
  {
   "cell_type": "code",
   "execution_count": 62,
   "metadata": {},
   "outputs": [],
   "source": [
    "from sklearn.preprocessing import StandardScaler\n",
    "scaler = StandardScaler()\n",
    "scaled_predictors = pd.DataFrame(scaler.fit_transform(predictors), columns = predictors.columns)"
   ]
  },
  {
   "cell_type": "code",
   "execution_count": 63,
   "metadata": {},
   "outputs": [],
   "source": [
    "a_sub3 = pd.concat([scaled_predictors, response], axis = 1)"
   ]
  },
  {
   "cell_type": "markdown",
   "metadata": {},
   "source": [
    "#### Imputing the remaining missing values"
   ]
  },
  {
   "cell_type": "code",
   "execution_count": 64,
   "metadata": {},
   "outputs": [],
   "source": [
    "from sklearn.impute import KNNImputer"
   ]
  },
  {
   "cell_type": "code",
   "execution_count": 65,
   "metadata": {},
   "outputs": [],
   "source": [
    "imputer = KNNImputer(n_neighbors=10)"
   ]
  },
  {
   "cell_type": "code",
   "execution_count": 66,
   "metadata": {},
   "outputs": [],
   "source": [
    "a_imputed = pd.DataFrame(imputer.fit_transform(a_sub3), columns = a_sub3.columns)"
   ]
  },
  {
   "cell_type": "code",
   "execution_count": 67,
   "metadata": {},
   "outputs": [
    {
     "data": {
      "text/plain": [
       "Equity_Paid_Up                       0\n",
       "Networth                             0\n",
       "Capital_Employed                     0\n",
       "Total_Debt                           0\n",
       "Gross_Block                          0\n",
       "Net_Working_Capital                  0\n",
       "Curr_Assets                          0\n",
       "Curr_Liab_and_Prov                   0\n",
       "Total_Assets_to_Liab                 0\n",
       "Gross_Sales                          0\n",
       "Net_Sales                            0\n",
       "Other_Income                         0\n",
       "Value_Of_Output                      0\n",
       "Cost_of_Prod                         0\n",
       "Selling_Cost                         0\n",
       "PBIDT                                0\n",
       "PBDT                                 0\n",
       "PBIT                                 0\n",
       "CP                                   0\n",
       "Rev_earn_in_forex                    0\n",
       "Rev_exp_in_forex                     0\n",
       "Capital_exp_in_forex                 0\n",
       "Book_Value_Unit_Curr                 0\n",
       "Book_Value_Adj_Unit_Curr             0\n",
       "Market_Capitalisation                0\n",
       "CEPS_annualised_Unit_Curr            0\n",
       "Cash_Flow_From_Opr                   0\n",
       "Cash_Flow_From_Inv                   0\n",
       "ROG_Net_Worth_perc                   0\n",
       "ROG_Capital_Employed_perc            0\n",
       "ROG_Gross_Block_perc                 0\n",
       "ROG_Gross_Sales_perc                 0\n",
       "ROG_Net_Sales_perc                   0\n",
       "ROG_Cost_of_Prod_perc                0\n",
       "ROG_Total_Assets_perc                0\n",
       "ROG_PBIDT_perc                       0\n",
       "ROG_PBDT_perc                        0\n",
       "ROG_PBIT_perc                        0\n",
       "ROG_PBT_perc                         0\n",
       "ROG_PAT_perc                         0\n",
       "ROG_CP_perc                          0\n",
       "ROG_Market_Capitalisation_perc       0\n",
       "Curr_Ratio_Latest                    0\n",
       "Fixed_Assets_Ratio_Latest            0\n",
       "Inventory_Ratio_Latest               0\n",
       "Debtors_Ratio_Latest                 0\n",
       "Interest_Cover_Ratio_Latest          0\n",
       "PBIDTM_perc_Latest                   0\n",
       "PBITM_perc_Latest                    0\n",
       "PBDTM_perc_Latest                    0\n",
       "CPM_perc_Latest                      0\n",
       "Debtors_Vel_Days                     0\n",
       "Creditors_Vel_Days                   0\n",
       "Value_of_Output_to_Gross_Block       0\n",
       "Total_Asset_Turnover_Ratio_Latest    0\n",
       "Inventory_Vel_Days                   0\n",
       "Value_of_Output_to_Total_Assets      0\n",
       "default                              0\n",
       "dtype: int64"
      ]
     },
     "execution_count": 67,
     "metadata": {},
     "output_type": "execute_result"
    }
   ],
   "source": [
    "a_imputed.isnull().sum()"
   ]
  },
  {
   "cell_type": "markdown",
   "metadata": {},
   "source": [
    "#### Inspect possible correlations between independent variables "
   ]
  },
  {
   "cell_type": "code",
   "execution_count": 68,
   "metadata": {},
   "outputs": [
    {
     "data": {
      "text/plain": [
       "<AxesSubplot:>"
      ]
     },
     "execution_count": 68,
     "metadata": {},
     "output_type": "execute_result"
    },
    {
     "data": {
      "image/png": "[encoded data removed]",
      "text/plain": [
       "<Figure size 864x576 with 2 Axes>"
      ]
     },
     "metadata": {
      "needs_background": "light"
     },
     "output_type": "display_data"
    }
   ],
   "source": [
    "plt.figure(figsize = (12,8))\n",
    "cor_matrix = a_imputed.drop('default', axis = 1).corr()\n",
    "sns.heatmap(cor_matrix, cmap = 'plasma', vmin = -1, vmax= 1)"
   ]
  },
  {
   "cell_type": "code",
   "execution_count": 69,
   "metadata": {},
   "outputs": [],
   "source": [
    "predictors = a_imputed.drop('default', axis = 1)\n",
    "response = a_imputed['default']"
   ]
  },
  {
   "cell_type": "code",
   "execution_count": 70,
   "metadata": {},
   "outputs": [],
   "source": [
    "from sklearn.model_selection import train_test_split\n",
    "from sklearn.feature_selection import RFE\n",
    "from sklearn.linear_model import LogisticRegression"
   ]
  },
  {
   "cell_type": "markdown",
   "metadata": {},
   "source": [
    "#### Splitting the data into train and test sets"
   ]
  },
  {
   "cell_type": "code",
   "execution_count": 71,
   "metadata": {},
   "outputs": [],
   "source": [
    "X_train, X_test, y_train, y_test = train_test_split(predictors, response, \n",
    "                                                    test_size = 0.33, random_state = 2)"
   ]
  },
  {
   "cell_type": "markdown",
   "metadata": {},
   "source": [
    "#### For modeling we will use Logistic Regression with recursive feature elimination"
   ]
  },
  {
   "cell_type": "code",
   "execution_count": 72,
   "metadata": {},
   "outputs": [],
   "source": [
    "LogR = LogisticRegression()"
   ]
  },
  {
   "cell_type": "code",
   "execution_count": 73,
   "metadata": {},
   "outputs": [],
   "source": [
    "selector = RFE(estimator = LogR, n_features_to_select=20, step=1)"
   ]
  },
  {
   "cell_type": "code",
   "execution_count": 74,
   "metadata": {},
   "outputs": [],
   "source": [
    "selector = selector.fit(X_train, y_train)"
   ]
  },
  {
   "cell_type": "code",
   "execution_count": 75,
   "metadata": {},
   "outputs": [
    {
     "data": {
      "text/plain": [
       "20"
      ]
     },
     "execution_count": 75,
     "metadata": {},
     "output_type": "execute_result"
    }
   ],
   "source": [
    "selector.n_features_"
   ]
  },
  {
   "cell_type": "code",
   "execution_count": 76,
   "metadata": {},
   "outputs": [
    {
     "data": {
      "text/plain": [
       "array([ 1,  1,  1,  7,  1, 36,  1,  1,  1, 10, 23,  1,  1,  1, 11,  1,  2,\n",
       "        1, 14, 24, 32, 38,  1,  1, 22,  1,  1,  4,  1,  1, 34, 31, 29,  8,\n",
       "       18, 26, 13, 30, 15, 16, 12, 33,  1, 27,  6, 25,  1,  9, 35, 37, 21,\n",
       "       19, 28,  3, 17, 20,  5])"
      ]
     },
     "execution_count": 76,
     "metadata": {},
     "output_type": "execute_result"
    }
   ],
   "source": [
    "selector.ranking_"
   ]
  },
  {
   "cell_type": "code",
   "execution_count": 77,
   "metadata": {},
   "outputs": [
    {
     "data": {
      "text/html": [
       "<div>\n",
       "<style scoped>\n",
       "    .dataframe tbody tr th:only-of-type {\n",
       "        vertical-align: middle;\n",
       "    }\n",
       "\n",
       "    .dataframe tbody tr th {\n",
       "        vertical-align: top;\n",
       "    }\n",
       "\n",
       "    .dataframe thead th {\n",
       "        text-align: right;\n",
       "    }\n",
       "</style>\n",
       "<table border=\"1\" class=\"dataframe\">\n",
       "  <thead>\n",
       "    <tr style=\"text-align: right;\">\n",
       "      <th></th>\n",
       "      <th>Feature</th>\n",
       "      <th>Rank</th>\n",
       "    </tr>\n",
       "  </thead>\n",
       "  <tbody>\n",
       "    <tr>\n",
       "      <th>0</th>\n",
       "      <td>Equity_Paid_Up</td>\n",
       "      <td>1</td>\n",
       "    </tr>\n",
       "    <tr>\n",
       "      <th>1</th>\n",
       "      <td>Networth</td>\n",
       "      <td>1</td>\n",
       "    </tr>\n",
       "    <tr>\n",
       "      <th>2</th>\n",
       "      <td>Capital_Employed</td>\n",
       "      <td>1</td>\n",
       "    </tr>\n",
       "    <tr>\n",
       "      <th>4</th>\n",
       "      <td>Gross_Block</td>\n",
       "      <td>1</td>\n",
       "    </tr>\n",
       "    <tr>\n",
       "      <th>6</th>\n",
       "      <td>Curr_Assets</td>\n",
       "      <td>1</td>\n",
       "    </tr>\n",
       "    <tr>\n",
       "      <th>7</th>\n",
       "      <td>Curr_Liab_and_Prov</td>\n",
       "      <td>1</td>\n",
       "    </tr>\n",
       "    <tr>\n",
       "      <th>8</th>\n",
       "      <td>Total_Assets_to_Liab</td>\n",
       "      <td>1</td>\n",
       "    </tr>\n",
       "    <tr>\n",
       "      <th>11</th>\n",
       "      <td>Other_Income</td>\n",
       "      <td>1</td>\n",
       "    </tr>\n",
       "    <tr>\n",
       "      <th>12</th>\n",
       "      <td>Value_Of_Output</td>\n",
       "      <td>1</td>\n",
       "    </tr>\n",
       "    <tr>\n",
       "      <th>13</th>\n",
       "      <td>Cost_of_Prod</td>\n",
       "      <td>1</td>\n",
       "    </tr>\n",
       "    <tr>\n",
       "      <th>15</th>\n",
       "      <td>PBIDT</td>\n",
       "      <td>1</td>\n",
       "    </tr>\n",
       "    <tr>\n",
       "      <th>17</th>\n",
       "      <td>PBIT</td>\n",
       "      <td>1</td>\n",
       "    </tr>\n",
       "    <tr>\n",
       "      <th>22</th>\n",
       "      <td>Book_Value_Unit_Curr</td>\n",
       "      <td>1</td>\n",
       "    </tr>\n",
       "    <tr>\n",
       "      <th>23</th>\n",
       "      <td>Book_Value_Adj_Unit_Curr</td>\n",
       "      <td>1</td>\n",
       "    </tr>\n",
       "    <tr>\n",
       "      <th>25</th>\n",
       "      <td>CEPS_annualised_Unit_Curr</td>\n",
       "      <td>1</td>\n",
       "    </tr>\n",
       "    <tr>\n",
       "      <th>26</th>\n",
       "      <td>Cash_Flow_From_Opr</td>\n",
       "      <td>1</td>\n",
       "    </tr>\n",
       "    <tr>\n",
       "      <th>28</th>\n",
       "      <td>ROG_Net_Worth_perc</td>\n",
       "      <td>1</td>\n",
       "    </tr>\n",
       "    <tr>\n",
       "      <th>29</th>\n",
       "      <td>ROG_Capital_Employed_perc</td>\n",
       "      <td>1</td>\n",
       "    </tr>\n",
       "    <tr>\n",
       "      <th>42</th>\n",
       "      <td>Curr_Ratio_Latest</td>\n",
       "      <td>1</td>\n",
       "    </tr>\n",
       "    <tr>\n",
       "      <th>46</th>\n",
       "      <td>Interest_Cover_Ratio_Latest</td>\n",
       "      <td>1</td>\n",
       "    </tr>\n",
       "  </tbody>\n",
       "</table>\n",
       "</div>"
      ],
      "text/plain": [
       "                        Feature  Rank\n",
       "0                Equity_Paid_Up     1\n",
       "1                      Networth     1\n",
       "2              Capital_Employed     1\n",
       "4                   Gross_Block     1\n",
       "6                   Curr_Assets     1\n",
       "7            Curr_Liab_and_Prov     1\n",
       "8          Total_Assets_to_Liab     1\n",
       "11                 Other_Income     1\n",
       "12              Value_Of_Output     1\n",
       "13                 Cost_of_Prod     1\n",
       "15                        PBIDT     1\n",
       "17                         PBIT     1\n",
       "22         Book_Value_Unit_Curr     1\n",
       "23     Book_Value_Adj_Unit_Curr     1\n",
       "25    CEPS_annualised_Unit_Curr     1\n",
       "26           Cash_Flow_From_Opr     1\n",
       "28           ROG_Net_Worth_perc     1\n",
       "29    ROG_Capital_Employed_perc     1\n",
       "42            Curr_Ratio_Latest     1\n",
       "46  Interest_Cover_Ratio_Latest     1"
      ]
     },
     "execution_count": 77,
     "metadata": {},
     "output_type": "execute_result"
    }
   ],
   "source": [
    "df = pd.DataFrame({'Feature': scaled_predictors.columns, 'Rank': selector.ranking_})\n",
    "df[df['Rank'] == 1]"
   ]
  },
  {
   "cell_type": "markdown",
   "metadata": {},
   "source": [
    "#### Validating the model on train and test set "
   ]
  },
  {
   "cell_type": "code",
   "execution_count": 78,
   "metadata": {},
   "outputs": [],
   "source": [
    "from sklearn.metrics import confusion_matrix, classification_report"
   ]
  },
  {
   "cell_type": "code",
   "execution_count": 79,
   "metadata": {},
   "outputs": [],
   "source": [
    "pred_train = selector.predict(X_train)\n",
    "pred_test = selector.predict(X_test)"
   ]
  },
  {
   "cell_type": "code",
   "execution_count": 80,
   "metadata": {},
   "outputs": [
    {
     "name": "stdout",
     "output_type": "stream",
     "text": [
      "[[2127   24]\n",
      " [  84  167]]\n"
     ]
    }
   ],
   "source": [
    "print(confusion_matrix(y_train, pred_train))"
   ]
  },
  {
   "cell_type": "code",
   "execution_count": 81,
   "metadata": {},
   "outputs": [
    {
     "name": "stdout",
     "output_type": "stream",
     "text": [
      "              precision    recall  f1-score   support\n",
      "\n",
      "         0.0       0.96      0.99      0.98      2151\n",
      "         1.0       0.87      0.67      0.76       251\n",
      "\n",
      "    accuracy                           0.96      2402\n",
      "   macro avg       0.92      0.83      0.87      2402\n",
      "weighted avg       0.95      0.96      0.95      2402\n",
      "\n"
     ]
    }
   ],
   "source": [
    "print(classification_report(y_train, pred_train))"
   ]
  },
  {
   "cell_type": "code",
   "execution_count": 82,
   "metadata": {},
   "outputs": [
    {
     "name": "stdout",
     "output_type": "stream",
     "text": [
      "[[1037   10]\n",
      " [  62   75]]\n"
     ]
    }
   ],
   "source": [
    "print(confusion_matrix(y_test, pred_test))"
   ]
  },
  {
   "cell_type": "code",
   "execution_count": 83,
   "metadata": {},
   "outputs": [
    {
     "name": "stdout",
     "output_type": "stream",
     "text": [
      "              precision    recall  f1-score   support\n",
      "\n",
      "         0.0       0.94      0.99      0.97      1047\n",
      "         1.0       0.88      0.55      0.68       137\n",
      "\n",
      "    accuracy                           0.94      1184\n",
      "   macro avg       0.91      0.77      0.82      1184\n",
      "weighted avg       0.94      0.94      0.93      1184\n",
      "\n"
     ]
    }
   ],
   "source": [
    "print(classification_report(y_test, pred_test))"
   ]
  },
  {
   "cell_type": "markdown",
   "metadata": {},
   "source": [
    "We see poor recall score for both train and test"
   ]
  },
  {
   "cell_type": "markdown",
   "metadata": {},
   "source": [
    "Since only ~11% of the total data had defaults, we will now try to balance the data before fiting the model. "
   ]
  },
  {
   "cell_type": "code",
   "execution_count": 84,
   "metadata": {},
   "outputs": [],
   "source": [
    "from imblearn.over_sampling import SMOTE\n",
    "sm = SMOTE(random_state=42)\n",
    "X_res, y_res = sm.fit_resample(X_train, y_train)"
   ]
  },
  {
   "cell_type": "code",
   "execution_count": 85,
   "metadata": {},
   "outputs": [],
   "source": [
    "selector_smote = selector.fit(X_res, y_res)"
   ]
  },
  {
   "cell_type": "code",
   "execution_count": 86,
   "metadata": {},
   "outputs": [
    {
     "data": {
      "text/plain": [
       "20"
      ]
     },
     "execution_count": 86,
     "metadata": {},
     "output_type": "execute_result"
    }
   ],
   "source": [
    "selector_smote.n_features_"
   ]
  },
  {
   "cell_type": "code",
   "execution_count": 87,
   "metadata": {},
   "outputs": [],
   "source": [
    "pred_train_smote = selector_smote.predict(X_res)\n",
    "pred_test_smote = selector_smote.predict(X_test)"
   ]
  },
  {
   "cell_type": "code",
   "execution_count": 88,
   "metadata": {},
   "outputs": [
    {
     "name": "stdout",
     "output_type": "stream",
     "text": [
      "              precision    recall  f1-score   support\n",
      "\n",
      "         0.0       0.95      0.91      0.93      2151\n",
      "         1.0       0.91      0.95      0.93      2151\n",
      "\n",
      "    accuracy                           0.93      4302\n",
      "   macro avg       0.93      0.93      0.93      4302\n",
      "weighted avg       0.93      0.93      0.93      4302\n",
      "\n"
     ]
    }
   ],
   "source": [
    "print(classification_report(y_res, pred_train_smote))"
   ]
  },
  {
   "cell_type": "code",
   "execution_count": 89,
   "metadata": {},
   "outputs": [
    {
     "name": "stdout",
     "output_type": "stream",
     "text": [
      "              precision    recall  f1-score   support\n",
      "\n",
      "         0.0       0.98      0.93      0.96      1047\n",
      "         1.0       0.62      0.84      0.71       137\n",
      "\n",
      "    accuracy                           0.92      1184\n",
      "   macro avg       0.80      0.89      0.83      1184\n",
      "weighted avg       0.94      0.92      0.93      1184\n",
      "\n"
     ]
    }
   ],
   "source": [
    "print(classification_report(y_test, pred_test_smote))"
   ]
  },
  {
   "cell_type": "markdown",
   "metadata": {},
   "source": [
    "Finally, we are able to achieve a descent recall value without overfitting. Considering the opportunities such as outliers, missing values and correlated features this is a fairly good model. It can be improved if we get better quality data where the features explaining the default are not missing to this extent. Of course we can try other techniques which are not sensitive towards missing values and outliers."
   ]
  },
  {
   "cell_type": "markdown",
   "metadata": {},
   "source": [
    "At last we were able to get a good recall value as well as precision without overfitting. "
   ]
  },
  {
   "cell_type": "markdown",
   "metadata": {},
   "source": [
    "## END"
   ]
  }
 ],
 "metadata": {
  "kernelspec": {
   "display_name": "Python 3 (ipykernel)",
   "language": "python",
   "name": "python3"
  },
  "language_info": {
   "codemirror_mode": {
    "name": "ipython",
    "version": 3
   },
   "file_extension": ".py",
   "mimetype": "text/x-python",
   "name": "python",
   "nbconvert_exporter": "python",
   "pygments_lexer": "ipython3",
   "version": "3.8.12"
  }
 },
 "nbformat": 4,
 "nbformat_minor": 4
}
