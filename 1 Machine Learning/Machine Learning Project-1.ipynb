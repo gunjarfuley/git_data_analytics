{
 "cells": [
  {
   "cell_type": "markdown",
   "metadata": {},
   "source": [
    "# Problem Statement"
   ]
  },
  {
   "cell_type": "markdown",
   "metadata": {},
   "source": [
    "You work for an office transport company. You are in discussions with ABC Consulting company for \n",
    "providing transport for their employees. For this purpose, you are tasked with understanding how do the \n",
    "employees of ABC Consulting prefer to commute presently (between home and office). Based on the \n",
    "parameters like age, salary, work experience etc. given in the data set ‘Transport.csv’, you are required to \n",
    "predict the preferred mode of transport. The project requires you to build several Machine Learning \n",
    "models and compare them so that the model can be finalised."
   ]
  },
  {
   "cell_type": "markdown",
   "metadata": {},
   "source": [
    "Data Dictionary\n",
    "Age : Age of the Employee in Years\n",
    "Gender : Gender of the Employee\n",
    "Engineer : For Engineer =1 , Non Engineer =0\n",
    "MBA : For MBA =1 , Non MBA =0\n",
    "Work Exp : Experience in years\n",
    "Salary : Salary in Lakhs per Annum\n",
    "Distance : Distance in Kms from Home to Office\n",
    "license : If Employee has Driving Licence -1, If not, then 0\n",
    "Transport : Mode of Transport\n",
    "The objective is to build various Machine Learning models on this data set and based on the accuracy \n",
    "metrics decide which model is to be finalised for finally predicting the mode of transport chosen by the \n",
    "employee."
   ]
  },
  {
   "cell_type": "code",
   "execution_count": null,
   "metadata": {},
   "outputs": [],
   "source": [
    "# !pip install imblearn\n",
    "\n",
    "# To enable plotting graphs in Jupyter notebook\n",
    "%matplotlib inline"
   ]
  },
  {
   "cell_type": "code",
   "execution_count": null,
   "metadata": {},
   "outputs": [],
   "source": [
    "#Importing all the required libraries\n",
    "import numpy as np   \n",
    "import pandas as pd    \n",
    "import matplotlib.pyplot as plt   \n",
    "import seaborn as sns\n",
    "from sklearn.model_selection import train_test_split\n",
    "from sklearn import metrics\n",
    "\n",
    "import warnings\n",
    "warnings.filterwarnings(\"ignore\")"
   ]
  },
  {
   "cell_type": "code",
   "execution_count": null,
   "metadata": {},
   "outputs": [],
   "source": [
    "from sklearn.linear_model import LinearRegression\n",
    "import matplotlib.style\n",
    "plt.style.use('classic')"
   ]
  },
  {
   "cell_type": "code",
   "execution_count": null,
   "metadata": {},
   "outputs": [],
   "source": [
    "#Reading the data\n",
    "o1 = pd.read_csv('Cars (2).csv')"
   ]
  },
  {
   "cell_type": "code",
   "execution_count": null,
   "metadata": {},
   "outputs": [],
   "source": [
    "o1"
   ]
  },
  {
   "cell_type": "code",
   "execution_count": null,
   "metadata": {},
   "outputs": [],
   "source": [
    "o1.head(5)"
   ]
  },
  {
   "cell_type": "code",
   "execution_count": null,
   "metadata": {},
   "outputs": [],
   "source": [
    "o1.Transport.unique()"
   ]
  },
  {
   "cell_type": "code",
   "execution_count": null,
   "metadata": {},
   "outputs": [],
   "source": [
    "o1.tail(5)"
   ]
  },
  {
   "cell_type": "code",
   "execution_count": null,
   "metadata": {},
   "outputs": [],
   "source": [
    "o1.dtypes"
   ]
  },
  {
   "cell_type": "code",
   "execution_count": null,
   "metadata": {},
   "outputs": [],
   "source": [
    "o1.info()"
   ]
  },
  {
   "cell_type": "code",
   "execution_count": null,
   "metadata": {},
   "outputs": [],
   "source": [
    "o1.shape"
   ]
  },
  {
   "cell_type": "code",
   "execution_count": null,
   "metadata": {},
   "outputs": [],
   "source": [
    "o1.describe().T"
   ]
  },
  {
   "cell_type": "code",
   "execution_count": null,
   "metadata": {},
   "outputs": [],
   "source": [
    "o1.columns"
   ]
  },
  {
   "cell_type": "markdown",
   "metadata": {},
   "source": [
    "# Univariate Analysis"
   ]
  },
  {
   "cell_type": "markdown",
   "metadata": {},
   "source": [
    "## Evaluating Age"
   ]
  },
  {
   "cell_type": "code",
   "execution_count": null,
   "metadata": {},
   "outputs": [],
   "source": [
    "o1['Age'].unique()\n",
    "o1['Age'].value_counts()"
   ]
  },
  {
   "cell_type": "code",
   "execution_count": null,
   "metadata": {},
   "outputs": [],
   "source": [
    "sns.distplot(o1['Age'],kde=False)"
   ]
  },
  {
   "cell_type": "code",
   "execution_count": null,
   "metadata": {},
   "outputs": [],
   "source": [
    "sns.boxplot(o1['Age'])"
   ]
  },
  {
   "cell_type": "code",
   "execution_count": null,
   "metadata": {},
   "outputs": [],
   "source": [
    "fig, (ax2,ax3)=plt.subplots(1,2,figsize=(13,5))\n",
    "\n",
    "#distplot\n",
    "sns.distplot(o1['Age'],ax=ax2)\n",
    "ax2.set_xlabel('Age', fontsize=15)\n",
    "ax2.tick_params(labelsize=15)\n",
    "\n",
    "#histogram\n",
    "ax3.hist(o1['Age'])\n",
    "ax3.set_xlabel('Age', fontsize=15)\n",
    "ax3.tick_params(labelsize=15)\n",
    "\n",
    "plt.subplots_adjust(wspace=0.5)\n",
    "plt.tight_layout()"
   ]
  },
  {
   "cell_type": "code",
   "execution_count": null,
   "metadata": {},
   "outputs": [],
   "source": [
    "o1['Gender'].unique()\n",
    "o1['Gender'].value_counts()"
   ]
  },
  {
   "cell_type": "code",
   "execution_count": null,
   "metadata": {},
   "outputs": [],
   "source": [
    "o1['Engineer'].unique()\n",
    "o1['Engineer'].value_counts()"
   ]
  },
  {
   "cell_type": "code",
   "execution_count": null,
   "metadata": {},
   "outputs": [],
   "source": [
    "sns.distplot(o1['Engineer'],kde=False)"
   ]
  },
  {
   "cell_type": "code",
   "execution_count": null,
   "metadata": {},
   "outputs": [],
   "source": [
    "sns.boxplot(o1['Engineer'])"
   ]
  },
  {
   "cell_type": "code",
   "execution_count": null,
   "metadata": {},
   "outputs": [],
   "source": [
    "fig, (ax2,ax3)=plt.subplots(1,2,figsize=(13,5))\n",
    "#distplot\n",
    "sns.distplot(o1['Engineer'],ax=ax2)\n",
    "ax2.set_xlabel('Engineer', fontsize=15)\n",
    "ax2.tick_params(labelsize=15)\n",
    "\n",
    "#histogram\n",
    "ax3.hist(o1['Engineer'])\n",
    "ax3.set_xlabel('Engineer', fontsize=15)\n",
    "ax3.tick_params(labelsize=15)\n",
    "\n",
    "plt.subplots_adjust(wspace=0.5)\n",
    "plt.tight_layout()"
   ]
  },
  {
   "cell_type": "code",
   "execution_count": null,
   "metadata": {},
   "outputs": [],
   "source": [
    "o1['MBA'].unique()\n",
    "o1['MBA'].value_counts()"
   ]
  },
  {
   "cell_type": "code",
   "execution_count": null,
   "metadata": {},
   "outputs": [],
   "source": [
    "sns.distplot(o1['MBA'],kde=False)"
   ]
  },
  {
   "cell_type": "code",
   "execution_count": null,
   "metadata": {},
   "outputs": [],
   "source": [
    "sns.boxplot(o1['MBA'])"
   ]
  },
  {
   "cell_type": "code",
   "execution_count": null,
   "metadata": {},
   "outputs": [],
   "source": [
    "fig, (ax2,ax3)=plt.subplots(1,2,figsize=(13,5))\n",
    "#distplot\n",
    "sns.distplot(o1['MBA'],ax=ax2)\n",
    "ax2.set_xlabel('MBA', fontsize=15)\n",
    "ax2.tick_params(labelsize=15)\n",
    "\n",
    "#histogram\n",
    "ax3.hist(o1['MBA'])\n",
    "ax3.set_xlabel('MBA', fontsize=15)\n",
    "ax3.tick_params(labelsize=15)\n",
    "\n",
    "plt.subplots_adjust(wspace=0.5)\n",
    "plt.tight_layout()"
   ]
  },
  {
   "cell_type": "code",
   "execution_count": null,
   "metadata": {},
   "outputs": [],
   "source": [
    "o1['Work Exp'].unique()\n",
    "o1['Work Exp'].value_counts()"
   ]
  },
  {
   "cell_type": "code",
   "execution_count": null,
   "metadata": {},
   "outputs": [],
   "source": [
    "sns.distplot(o1['Work Exp'],kde=False)"
   ]
  },
  {
   "cell_type": "code",
   "execution_count": null,
   "metadata": {},
   "outputs": [],
   "source": [
    "sns.boxplot(o1['Work Exp'])"
   ]
  },
  {
   "cell_type": "code",
   "execution_count": null,
   "metadata": {},
   "outputs": [],
   "source": [
    "fig, (ax2,ax3)=plt.subplots(1,2,figsize=(13,5))\n",
    "#distplot\n",
    "sns.distplot(o1['Work Exp'],ax=ax2)\n",
    "ax2.set_xlabel('Work Exp', fontsize=15)\n",
    "ax2.tick_params(labelsize=15)\n",
    "\n",
    "#histogram\n",
    "ax3.hist(o1['Work Exp'])\n",
    "ax3.set_xlabel('Work Exp', fontsize=15)\n",
    "ax3.tick_params(labelsize=15)\n",
    "\n",
    "plt.subplots_adjust(wspace=0.5)\n",
    "plt.tight_layout()"
   ]
  },
  {
   "cell_type": "code",
   "execution_count": null,
   "metadata": {},
   "outputs": [],
   "source": [
    "o1['Salary'].unique()\n",
    "o1['Salary'].value_counts()"
   ]
  },
  {
   "cell_type": "code",
   "execution_count": null,
   "metadata": {},
   "outputs": [],
   "source": [
    "sns.distplot(o1['Salary'],kde=False)"
   ]
  },
  {
   "cell_type": "code",
   "execution_count": null,
   "metadata": {},
   "outputs": [],
   "source": [
    "sns.boxplot(o1['Salary'])"
   ]
  },
  {
   "cell_type": "code",
   "execution_count": null,
   "metadata": {},
   "outputs": [],
   "source": [
    "fig, (ax2,ax3)=plt.subplots(1,2,figsize=(13,5))\n",
    "#distplot\n",
    "sns.distplot(o1['Salary'],ax=ax2)\n",
    "ax2.set_xlabel('Salary', fontsize=15)\n",
    "ax2.tick_params(labelsize=15)\n",
    "\n",
    "#histogram\n",
    "ax3.hist(o1['Salary'])\n",
    "ax3.set_xlabel('Salary', fontsize=15)\n",
    "ax3.tick_params(labelsize=15)\n",
    "\n",
    "plt.subplots_adjust(wspace=0.5)\n",
    "plt.tight_layout()"
   ]
  },
  {
   "cell_type": "code",
   "execution_count": null,
   "metadata": {},
   "outputs": [],
   "source": [
    "o1['Distance'].unique()\n",
    "o1['Distance'].value_counts()"
   ]
  },
  {
   "cell_type": "code",
   "execution_count": null,
   "metadata": {},
   "outputs": [],
   "source": [
    "sns.distplot(o1['Distance'],kde=False)"
   ]
  },
  {
   "cell_type": "code",
   "execution_count": null,
   "metadata": {},
   "outputs": [],
   "source": [
    "sns.boxplot(o1['Distance'])"
   ]
  },
  {
   "cell_type": "code",
   "execution_count": null,
   "metadata": {},
   "outputs": [],
   "source": [
    "fig, (ax2,ax3)=plt.subplots(1,2,figsize=(13,5))\n",
    "#distplot\n",
    "sns.distplot(o1['Distance'],ax=ax2)\n",
    "ax2.set_xlabel('Distance', fontsize=15)\n",
    "ax2.tick_params(labelsize=15)\n",
    "\n",
    "#histogram\n",
    "ax3.hist(o1['Distance'])\n",
    "ax3.set_xlabel('Distance', fontsize=15)\n",
    "ax3.tick_params(labelsize=15)\n",
    "\n",
    "plt.subplots_adjust(wspace=0.5)\n",
    "plt.tight_layout()"
   ]
  },
  {
   "cell_type": "code",
   "execution_count": null,
   "metadata": {},
   "outputs": [],
   "source": [
    "o1['license'].unique()\n",
    "o1['license'].value_counts()"
   ]
  },
  {
   "cell_type": "code",
   "execution_count": null,
   "metadata": {},
   "outputs": [],
   "source": [
    "sns.distplot(o1['license'],kde=False)"
   ]
  },
  {
   "cell_type": "code",
   "execution_count": null,
   "metadata": {},
   "outputs": [],
   "source": [
    "sns.boxplot(o1['license'])"
   ]
  },
  {
   "cell_type": "code",
   "execution_count": null,
   "metadata": {},
   "outputs": [],
   "source": [
    "fig, (ax2,ax3)=plt.subplots(1,2,figsize=(13,5))\n",
    "#distplot\n",
    "sns.distplot(o1['license'],ax=ax2)\n",
    "ax2.set_xlabel('license', fontsize=15)\n",
    "ax2.tick_params(labelsize=15)\n",
    "\n",
    "#histogram\n",
    "ax3.hist(o1['license'])\n",
    "ax3.set_xlabel('license', fontsize=15)\n",
    "ax3.tick_params(labelsize=15)\n",
    "\n",
    "plt.subplots_adjust(wspace=0.5)\n",
    "plt.tight_layout()"
   ]
  },
  {
   "cell_type": "code",
   "execution_count": null,
   "metadata": {},
   "outputs": [],
   "source": [
    "o1['Transport'].unique()\n",
    "o1['Transport'].value_counts()"
   ]
  },
  {
   "cell_type": "code",
   "execution_count": null,
   "metadata": {},
   "outputs": [],
   "source": [
    "plt.figure(figsize=(15,15))\n",
    "o1[['Age','Gender','Engineer','MBA','Work Exp','Salary','Distance','license','Transport']].boxplot(vert=0)"
   ]
  },
  {
   "cell_type": "markdown",
   "metadata": {},
   "source": [
    "# Multivariate analysis Checking pair plot for continuous variables"
   ]
  },
  {
   "cell_type": "code",
   "execution_count": null,
   "metadata": {},
   "outputs": [],
   "source": [
    "sns.pairplot(o1[['Age','Gender','Engineer','MBA','Work Exp','Salary','Distance','license','Transport']])"
   ]
  },
  {
   "cell_type": "code",
   "execution_count": null,
   "metadata": {},
   "outputs": [],
   "source": [
    "# construct heatmap with only continuous variables\n",
    "plt.figure(figsize=(10,8))\n",
    "sns.set(font_scale=1.2)\n",
    "sns.heatmap(o1[['Age','Gender','Engineer','MBA','Work Exp','Salary','Distance','license','Transport']].corr(), annot=True)"
   ]
  },
  {
   "cell_type": "code",
   "execution_count": null,
   "metadata": {},
   "outputs": [],
   "source": [
    "#Confirming the number of null values\n",
    "o1.isnull().sum()"
   ]
  },
  {
   "cell_type": "markdown",
   "metadata": {},
   "source": [
    "#Pairplot\n",
    "v = o1.iloc[:, 0:10]\n",
    "sns.pairplot(v,diag_kind='kde')"
   ]
  },
  {
   "cell_type": "markdown",
   "metadata": {},
   "source": [
    "## unique values for categorical variables"
   ]
  },
  {
   "cell_type": "code",
   "execution_count": null,
   "metadata": {},
   "outputs": [],
   "source": [
    "for column in o1.columns:\n",
    "    if o1[column].dtype == 'object':\n",
    "        print(column.upper(),': ',o1[column].nunique())\n",
    "        print(o1[column].value_counts().sort_values())\n",
    "        print('\\n')"
   ]
  },
  {
   "cell_type": "code",
   "execution_count": null,
   "metadata": {},
   "outputs": [],
   "source": [
    "o1.isnull().sum()"
   ]
  },
  {
   "cell_type": "code",
   "execution_count": null,
   "metadata": {},
   "outputs": [],
   "source": [
    "dups = o1.duplicated()\n",
    "print('Number of duplicate rows = %d' % (dups.sum()))\n",
    "\n",
    "o1[dups]"
   ]
  },
  {
   "cell_type": "code",
   "execution_count": null,
   "metadata": {},
   "outputs": [],
   "source": [
    "## Let's rename columns to remove space before we impute\n",
    "o1.rename(columns = {\"Work Exp\": \"Work_Exp\"},inplace=True)"
   ]
  },
  {
   "cell_type": "markdown",
   "metadata": {},
   "source": [
    "# Outlier Checks"
   ]
  },
  {
   "cell_type": "code",
   "execution_count": null,
   "metadata": {},
   "outputs": [],
   "source": [
    "# construct box plot for continuous variables\n",
    "plt.figure(figsize=(10,10))\n",
    "o1.iloc[:,:7].boxplot(vert=0)\n",
    "plt.show()"
   ]
  },
  {
   "cell_type": "markdown",
   "metadata": {},
   "source": [
    "# outlier treatment"
   ]
  },
  {
   "cell_type": "code",
   "execution_count": null,
   "metadata": {},
   "outputs": [],
   "source": [
    "def remove_outlier(col):\n",
    "    sorted(col)\n",
    "    Q1,Q3=np.percentile(col,[25,75])\n",
    "    IQR=Q3-Q1\n",
    "    lower_range= Q1-(1.5 * IQR)\n",
    "    upper_range= Q3+(1.5 * IQR)\n",
    "    return lower_range, upper_range"
   ]
  },
  {
   "cell_type": "code",
   "execution_count": null,
   "metadata": {},
   "outputs": [],
   "source": [
    "for column in o1.iloc[:, 1:3].columns:\n",
    "    lr,ur=remove_outlier(o1[column])\n",
    "    o1[column]=np.where(o1[column]>ur,ur,o1[column])\n",
    "    o1[column]=np.where(o1[column]<lr,lr,o1[column])"
   ]
  },
  {
   "cell_type": "code",
   "execution_count": null,
   "metadata": {},
   "outputs": [],
   "source": []
  }
 ],
 "metadata": {
  "kernelspec": {
   "display_name": "Python 3 (ipykernel)",
   "language": "python",
   "name": "python3"
  },
  "language_info": {
   "codemirror_mode": {
    "name": "ipython",
    "version": 3
   },
   "file_extension": ".py",
   "mimetype": "text/x-python",
   "name": "python",
   "nbconvert_exporter": "python",
   "pygments_lexer": "ipython3",
   "version": "3.8.12"
  }
 },
 "nbformat": 4,
 "nbformat_minor": 4
}
